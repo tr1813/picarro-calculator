{
 "cells": [
  {
   "cell_type": "code",
   "execution_count": 1,
   "metadata": {},
   "outputs": [
    {
     "name": "stdout",
     "output_type": "stream",
     "text": [
      "/Users/AchilleTalon/Documents/GitHub/picarro_calculator/picarro-calculator\n"
     ]
    }
   ],
   "source": [
    "cd .."
   ]
  },
  {
   "cell_type": "code",
   "execution_count": 2,
   "metadata": {},
   "outputs": [],
   "source": [
    "import Picarro as pica"
   ]
  },
  {
   "cell_type": "code",
   "execution_count": 3,
   "metadata": {},
   "outputs": [
    {
     "name": "stdout",
     "output_type": "stream",
     "text": [
      "Running the corrections for Oxygen \n",
      " ... \n",
      " ...\n",
      "No empty cells. Proceeding...\n",
      "Warning: H20 value outside bounds on line 1...\n",
      "Warning: H20 value outside bounds on line 53...\n",
      "Warning: H20 value outside bounds on line 61...\n",
      "Warning: H20 value outside bounds on line 62...\n",
      "Warning: H20 value outside bounds on line 63...\n",
      "Warning: H20 value outside bounds on line 101...\n",
      "Warning: H20 value outside bounds on line 102...\n",
      "Warning: H20 value outside bounds on line 104...\n",
      "Warning: H20 value outside bounds on line 114...\n",
      "Checking a coeffs whether a coeffs file already exists\n",
      "coeffs file already exists!\n",
      "Now running the Optimization algorithm to minimize the combined standard deviation\n",
      "Running SQSLP algorithm\n",
      "Done\n",
      "Successfully corrected values for memory effects\n",
      "Successfully corrected for drift\n",
      "Sucessfully calibrated to VSMOW scale\n",
      "Warning: high standard deviation on sample GE-20\n",
      "Warning: high standard deviation on sample GE-22\n",
      "Warning: high standard deviation on sample GE-27\n",
      "Warning: high standard deviation on sample GE-28\n",
      "Warning: high standard deviation on sample GE-31\n",
      "Warning: high standard deviation on sample GE-36\n",
      "Warning: high standard deviation on sample GE-37\n",
      "Warning: high standard deviation on sample GE-38\n",
      "Warning: high standard deviation on sample TAP\n",
      "Done! \n",
      " ... \n",
      " ...\n",
      " ... \n",
      " ...\n",
      "Running the corrections for Deuterium \n",
      " ... \n",
      " ...\n",
      "No empty cells. Proceeding...\n",
      "Warning: H20 value outside bounds on line 1...\n",
      "Warning: H20 value outside bounds on line 53...\n",
      "Warning: H20 value outside bounds on line 61...\n",
      "Warning: H20 value outside bounds on line 62...\n",
      "Warning: H20 value outside bounds on line 63...\n",
      "Warning: H20 value outside bounds on line 101...\n",
      "Warning: H20 value outside bounds on line 102...\n",
      "Warning: H20 value outside bounds on line 104...\n",
      "Warning: H20 value outside bounds on line 114...\n",
      "Checking a coeffs whether a coeffs file already exists\n",
      "coeffs file already exists!\n",
      "Now running the Optimization algorithm to minimize the combined standard deviation\n",
      "Running SQSLP algorithm\n",
      "Done\n",
      "Successfully corrected values for memory effects\n",
      "Successfully corrected for drift\n",
      "Sucessfully calibrated to VSMOW scale\n",
      "Warning: high standard deviation on sample GE-27\n",
      "Warning: high standard deviation on sample GE-28\n",
      "Warning: high standard deviation on sample GE-36\n",
      "Warning: high standard deviation on sample GE-37\n",
      "Warning: high standard deviation on sample GE-38\n",
      "Done!\n"
     ]
    }
   ],
   "source": [
    "O18,D = pica.FullRun(\"example_data/HKDS2009_IsoWater_20191104_084429.csv\")"
   ]
  },
  {
   "cell_type": "code",
   "execution_count": 4,
   "metadata": {},
   "outputs": [
    {
     "data": {
      "image/png": "[encoded data removed]",
      "text/plain": [
       "<Figure size 432x288 with 1 Axes>"
      ]
     },
     "metadata": {},
     "output_type": "display_data"
    }
   ],
   "source": [
    "pica.OverviewPlot(O18,D)"
   ]
  },
  {
   "cell_type": "code",
   "execution_count": null,
   "metadata": {},
   "outputs": [],
   "source": [
    "O18.getUpdatedSD()"
   ]
  }
 ],
 "metadata": {
  "kernelspec": {
   "display_name": "Python 3",
   "language": "python",
   "name": "python3"
  },
  "language_info": {
   "codemirror_mode": {
    "name": "ipython",
    "version": 3
   },
   "file_extension": ".py",
   "mimetype": "text/x-python",
   "name": "python",
   "nbconvert_exporter": "python",
   "pygments_lexer": "ipython3",
   "version": "3.6.7"
  }
 },
 "nbformat": 4,
 "nbformat_minor": 2
}

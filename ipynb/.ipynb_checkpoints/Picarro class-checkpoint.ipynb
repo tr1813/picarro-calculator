{
 "cells": [
  {
   "cell_type": "markdown",
   "metadata": {},
   "source": [
    "# Using 'Isotope' class for Picarro calculations"
   ]
  },
  {
   "cell_type": "code",
   "execution_count": 1,
   "metadata": {},
   "outputs": [],
   "source": [
    "cd .."
   ]
  },
  {
   "cell_type": "markdown",
   "metadata": {},
   "source": [
    "This notebook makes use of a new python class: Isotope.\n",
    "This class and its methods are found in the module Picarro, which we import below."
   ]
  },
  {
   "cell_type": "code",
   "execution_count": 2,
   "metadata": {},
   "outputs": [],
   "source": [
    "import Picarro as pica"
   ]
  },
  {
   "cell_type": "markdown",
   "metadata": {},
   "source": [
    "## Get a full run of the data\n",
    "In the Picarro module, it is possible to directly call for a full run of the data.\n",
    "\n",
    "This takes the form of:\n",
    "\n",
    "   ```O18,D = Picarro.FullRun(filename)```\n",
    "\n",
    "and returns two instances of the Isotope class."
   ]
  },
  {
   "cell_type": "code",
   "execution_count": 3,
   "metadata": {},
   "outputs": [
    {
     "name": "stdout",
     "output_type": "stream",
     "text": [
      "Running the corrections for Oxygen \n",
      " ... \n",
      " ...\n"
     ]
    },
    {
     "ename": "ValueError",
     "evalue": "The truth value of a Series is ambiguous. Use a.empty, a.bool(), a.item(), a.any() or a.all().",
     "output_type": "error",
     "traceback": [
      "\u001b[0;31m---------------------------------------------------------------------------\u001b[0m",
      "\u001b[0;31mValueError\u001b[0m                                Traceback (most recent call last)",
      "\u001b[0;32m<ipython-input-3-9c9daad02e9a>\u001b[0m in \u001b[0;36m<module>\u001b[0;34m()\u001b[0m\n\u001b[0;32m----> 1\u001b[0;31m \u001b[0mO18\u001b[0m\u001b[0;34m,\u001b[0m\u001b[0mD\u001b[0m \u001b[0;34m=\u001b[0m \u001b[0mpica\u001b[0m\u001b[0;34m.\u001b[0m\u001b[0mFullRun\u001b[0m\u001b[0;34m(\u001b[0m\u001b[0;34m\"example_data/HKDS2009_IsoWater_20191104_084429.csv\"\u001b[0m\u001b[0;34m)\u001b[0m\u001b[0;34m\u001b[0m\u001b[0;34m\u001b[0m\u001b[0m\n\u001b[0m",
      "\u001b[0;32m~/Documents/GitHub/picarro_calculator/picarro-calculator/Picarro.py\u001b[0m in \u001b[0;36mFullRun\u001b[0;34m(filename)\u001b[0m\n\u001b[1;32m    815\u001b[0m \u001b[0;34m\u001b[0m\u001b[0m\n\u001b[1;32m    816\u001b[0m         \u001b[0mprint\u001b[0m\u001b[0;34m(\u001b[0m\u001b[0;34m\"Running the corrections for Oxygen \\n ... \\n ...\"\u001b[0m\u001b[0;34m)\u001b[0m\u001b[0;34m\u001b[0m\u001b[0;34m\u001b[0m\u001b[0m\n\u001b[0;32m--> 817\u001b[0;31m         \u001b[0mX\u001b[0m \u001b[0;34m=\u001b[0m \u001b[0mRun\u001b[0m\u001b[0;34m(\u001b[0m\u001b[0;34m\"O\"\u001b[0m\u001b[0;34m,\u001b[0m\u001b[0mfilename\u001b[0m\u001b[0;34m)\u001b[0m\u001b[0;34m\u001b[0m\u001b[0;34m\u001b[0m\u001b[0m\n\u001b[0m\u001b[1;32m    818\u001b[0m         \u001b[0mprint\u001b[0m\u001b[0;34m(\u001b[0m\u001b[0;34m'Done! \\n ... \\n ...\\n ... \\n ...'\u001b[0m\u001b[0;34m)\u001b[0m\u001b[0;34m\u001b[0m\u001b[0;34m\u001b[0m\u001b[0m\n\u001b[1;32m    819\u001b[0m \u001b[0;34m\u001b[0m\u001b[0m\n",
      "\u001b[0;32m~/Documents/GitHub/picarro_calculator/picarro-calculator/Picarro.py\u001b[0m in \u001b[0;36mRun\u001b[0;34m(iso, filename)\u001b[0m\n\u001b[1;32m    807\u001b[0m         \u001b[0mRUN\u001b[0m\u001b[0;34m.\u001b[0m\u001b[0mdriftCorrect\u001b[0m\u001b[0;34m(\u001b[0m\u001b[0miso\u001b[0m\u001b[0;34m)\u001b[0m\u001b[0;34m\u001b[0m\u001b[0;34m\u001b[0m\u001b[0m\n\u001b[1;32m    808\u001b[0m         \u001b[0mRUN\u001b[0m\u001b[0;34m.\u001b[0m\u001b[0mVSMOWcorrect\u001b[0m\u001b[0;34m(\u001b[0m\u001b[0miso\u001b[0m\u001b[0;34m)\u001b[0m\u001b[0;34m\u001b[0m\u001b[0;34m\u001b[0m\u001b[0m\n\u001b[0;32m--> 809\u001b[0;31m         \u001b[0mRUN\u001b[0m\u001b[0;34m.\u001b[0m\u001b[0mgetMeanSDs\u001b[0m\u001b[0;34m(\u001b[0m\u001b[0miso\u001b[0m\u001b[0;34m)\u001b[0m\u001b[0;34m\u001b[0m\u001b[0;34m\u001b[0m\u001b[0m\n\u001b[0m\u001b[1;32m    810\u001b[0m         \u001b[0mRUN\u001b[0m\u001b[0;34m.\u001b[0m\u001b[0mcheckStandards\u001b[0m\u001b[0;34m(\u001b[0m\u001b[0miso\u001b[0m\u001b[0;34m)\u001b[0m\u001b[0;34m\u001b[0m\u001b[0;34m\u001b[0m\u001b[0m\n\u001b[1;32m    811\u001b[0m \u001b[0;34m\u001b[0m\u001b[0m\n",
      "\u001b[0;32m~/Documents/GitHub/picarro_calculator/picarro-calculator/Picarro.py\u001b[0m in \u001b[0;36mgetMeanSDs\u001b[0;34m(self, isotope)\u001b[0m\n\u001b[1;32m    729\u001b[0m                                                 \u001b[0mdat\u001b[0m \u001b[0;34m=\u001b[0m \u001b[0mdf\u001b[0m\u001b[0;34m.\u001b[0m\u001b[0mwhere\u001b[0m\u001b[0;34m(\u001b[0m\u001b[0mdf\u001b[0m\u001b[0;34m[\u001b[0m\u001b[0;34m\"Error Code\"\u001b[0m\u001b[0;34m]\u001b[0m \u001b[0;34m==\u001b[0m \u001b[0;36m0\u001b[0m\u001b[0;34m)\u001b[0m\u001b[0;34m\u001b[0m\u001b[0;34m\u001b[0m\u001b[0m\n\u001b[1;32m    730\u001b[0m                                                 \u001b[0mdat\u001b[0m \u001b[0;34m=\u001b[0m \u001b[0mdat\u001b[0m\u001b[0;34m.\u001b[0m\u001b[0mloc\u001b[0m\u001b[0;34m[\u001b[0m\u001b[0mi\u001b[0m\u001b[0;34m]\u001b[0m\u001b[0;34m\u001b[0m\u001b[0;34m\u001b[0m\u001b[0m\n\u001b[0;32m--> 731\u001b[0;31m                                                 \u001b[0mdat\u001b[0m \u001b[0;34m=\u001b[0m \u001b[0mrunCheck\u001b[0m\u001b[0;34m(\u001b[0m\u001b[0mdat\u001b[0m\u001b[0;34m)\u001b[0m\u001b[0;34m\u001b[0m\u001b[0;34m\u001b[0m\u001b[0m\n\u001b[0m\u001b[1;32m    732\u001b[0m                                                 \u001b[0mISOmean\u001b[0m \u001b[0;34m=\u001b[0m \u001b[0mdat\u001b[0m\u001b[0;34m[\u001b[0m\u001b[0mcol1\u001b[0m\u001b[0;34m]\u001b[0m\u001b[0;34m\u001b[0m\u001b[0;34m\u001b[0m\u001b[0m\n\u001b[1;32m    733\u001b[0m                                                 \u001b[0mISOmem_corr\u001b[0m \u001b[0;34m=\u001b[0m \u001b[0mdat\u001b[0m\u001b[0;34m[\u001b[0m\u001b[0mcol2\u001b[0m\u001b[0;34m]\u001b[0m\u001b[0;34m\u001b[0m\u001b[0;34m\u001b[0m\u001b[0m\n",
      "\u001b[0;32m~/Documents/GitHub/picarro_calculator/picarro-calculator/Picarro.py\u001b[0m in \u001b[0;36mrunCheck\u001b[0;34m(df)\u001b[0m\n\u001b[1;32m    643\u001b[0m                                     \u001b[0mprint\u001b[0m\u001b[0;34m(\u001b[0m\u001b[0;34m\"get rid of measurements {}\"\u001b[0m\u001b[0;34m.\u001b[0m\u001b[0mformat\u001b[0m\u001b[0;34m(\u001b[0m\u001b[0mstds\u001b[0m\u001b[0;34m[\u001b[0m\u001b[0mvalue\u001b[0m\u001b[0;34m]\u001b[0m\u001b[0;34m[\u001b[0m\u001b[0;36m1\u001b[0m\u001b[0;34m]\u001b[0m\u001b[0;34m[\u001b[0m\u001b[0;34m-\u001b[0m\u001b[0;36m8\u001b[0m\u001b[0;34m:\u001b[0m\u001b[0;34m]\u001b[0m\u001b[0;34m)\u001b[0m\u001b[0;34m)\u001b[0m\u001b[0;34m\u001b[0m\u001b[0;34m\u001b[0m\u001b[0m\n\u001b[1;32m    644\u001b[0m \u001b[0;34m\u001b[0m\u001b[0m\n\u001b[0;32m--> 645\u001b[0;31m                     \u001b[0mchecks\u001b[0m\u001b[0;34m(\u001b[0m\u001b[0mstds\u001b[0m\u001b[0;34m)\u001b[0m\u001b[0;34m\u001b[0m\u001b[0;34m\u001b[0m\u001b[0m\n\u001b[0m\u001b[1;32m    646\u001b[0m                     \u001b[0;32mreturn\u001b[0m \u001b[0mdf1\u001b[0m\u001b[0;34m\u001b[0m\u001b[0;34m\u001b[0m\u001b[0m\n\u001b[1;32m    647\u001b[0m \u001b[0;34m\u001b[0m\u001b[0m\n",
      "\u001b[0;32m~/Documents/GitHub/picarro_calculator/picarro-calculator/Picarro.py\u001b[0m in \u001b[0;36mchecks\u001b[0;34m(mylist)\u001b[0m\n\u001b[1;32m    627\u001b[0m                     \u001b[0;32mdef\u001b[0m \u001b[0mchecks\u001b[0m\u001b[0;34m(\u001b[0m\u001b[0mmylist\u001b[0m\u001b[0;34m)\u001b[0m\u001b[0;34m:\u001b[0m\u001b[0;34m\u001b[0m\u001b[0;34m\u001b[0m\u001b[0m\n\u001b[1;32m    628\u001b[0m \u001b[0;34m\u001b[0m\u001b[0m\n\u001b[0;32m--> 629\u001b[0;31m                         \u001b[0;32mif\u001b[0m \u001b[0mmylist\u001b[0m\u001b[0;34m[\u001b[0m\u001b[0;36m0\u001b[0m\u001b[0;34m]\u001b[0m\u001b[0;34m[\u001b[0m\u001b[0;36m0\u001b[0m\u001b[0;34m]\u001b[0m\u001b[0;34m<\u001b[0m\u001b[0;36m0.1\u001b[0m\u001b[0;34m:\u001b[0m\u001b[0;34m\u001b[0m\u001b[0;34m\u001b[0m\u001b[0m\n\u001b[0m\u001b[1;32m    630\u001b[0m                             \u001b[0mprint\u001b[0m\u001b[0;34m(\u001b[0m\u001b[0;34m\"standad dev is good\"\u001b[0m\u001b[0;34m)\u001b[0m\u001b[0;34m\u001b[0m\u001b[0;34m\u001b[0m\u001b[0m\n\u001b[1;32m    631\u001b[0m                         \u001b[0;32melse\u001b[0m\u001b[0;34m:\u001b[0m\u001b[0;34m\u001b[0m\u001b[0;34m\u001b[0m\u001b[0m\n",
      "\u001b[0;32m~/miniconda3/lib/python3.6/site-packages/pandas/core/generic.py\u001b[0m in \u001b[0;36m__nonzero__\u001b[0;34m(self)\u001b[0m\n\u001b[1;32m   1571\u001b[0m         raise ValueError(\"The truth value of a {0} is ambiguous. \"\n\u001b[1;32m   1572\u001b[0m                          \u001b[0;34m\"Use a.empty, a.bool(), a.item(), a.any() or a.all().\"\u001b[0m\u001b[0;34m\u001b[0m\u001b[0;34m\u001b[0m\u001b[0m\n\u001b[0;32m-> 1573\u001b[0;31m                          .format(self.__class__.__name__))\n\u001b[0m\u001b[1;32m   1574\u001b[0m \u001b[0;34m\u001b[0m\u001b[0m\n\u001b[1;32m   1575\u001b[0m     \u001b[0m__bool__\u001b[0m \u001b[0;34m=\u001b[0m \u001b[0m__nonzero__\u001b[0m\u001b[0;34m\u001b[0m\u001b[0;34m\u001b[0m\u001b[0m\n",
      "\u001b[0;31mValueError\u001b[0m: The truth value of a Series is ambiguous. Use a.empty, a.bool(), a.item(), a.any() or a.all()."
     ]
    }
   ],
   "source": [
    "O18,D = pica.FullRun(\"example_data/HKDS2009_IsoWater_20191104_084429.csv\")"
   ]
  },
  {
   "cell_type": "markdown",
   "metadata": {},
   "source": [
    "## Overview of the Isotope class\n",
    "\n",
    "In the **Isotope** class, a variety of methods are available, so of which are used discreetly in the `FullRun()` function above.\n",
    "\n",
    "They are:\n",
    "\n",
    "For an initial treatment of the data:\n",
    "```\n",
    "readRaw() \n",
    "checkEmpty()\n",
    "checkVolume()\n",
    "runSummary()\n",
    "```\n",
    "\n",
    "For the computation of correction coefficients (workhorse of the class)\n",
    "```\n",
    "IsotopeSelect()\n",
    "initMemCoeffs()\n",
    "Optimize()\n",
    "MemoryCorrection()\n",
    "driftCorrect()\n",
    "VSMOWcorrect()\n",
    "```\n",
    "\n",
    "For additional checks\n",
    "```\n",
    "getMeanSDs()\n",
    "checkStandards()\n",
    "```\n",
    "\n",
    "For plotting convenience:\n",
    "\n",
    "```\n",
    "plotSummary()\n",
    "memCorrPlot()\n",
    "driftCorrPlot()\n",
    "VSMOWCorrPlot()\n",
    "```"
   ]
  },
  {
   "cell_type": "markdown",
   "metadata": {},
   "source": [
    "## Other functions of the Picarro module\n",
    "\n",
    "Below are a list of other functions available within the Picarro module:\n",
    "\n",
    "```\n",
    "1) Run()\n",
    "2) FullRun()\n",
    "3) Merge()\n",
    "4) OverviewPlot()\n",
    "5) DatatoCSV()\n",
    "```"
   ]
  },
  {
   "cell_type": "markdown",
   "metadata": {},
   "source": [
    "#### 1 Picarro.Run()\n",
    "\n",
    "This function takes in two arguments: \n",
    "1. Isotope of choice: \"O\" or \"D\"\n",
    "2. Filename: the path to csv data\n",
    "\n",
    "Returns an object of class **Isotope**\n",
    "\n",
    "An example usage: \n",
    "\n",
    "``` Isotope = Picarro.Run(isotope,path/to/file)```\n",
    "\n",
    "#### 2 Picarro.FullRun()\n",
    "\n",
    "This function takes in one argument:\n",
    "1. Filename: the path to csv data\n",
    "\n",
    "It returns two objects of class **Isotope**. The first one contains Oxygen data, the second, deuterium. \n",
    "To be used thus:\n",
    "\n",
    "``` O18,D = Picarro.FullRun(path/to_file)```\n",
    "\n",
    "*Note that this is what was done in the cells above, for the 'quick and dirty' full run of the data*\n",
    "\n"
   ]
  },
  {
   "cell_type": "markdown",
   "metadata": {},
   "source": [
    "#### 3 Picarro.Merge()\n",
    "\n",
    "This function takes two arguments; each must be an instance of class **Isotope**. It returns a pandas DataFrame, containing the summary data of the run.\n",
    "\n",
    "Example usage: \n",
    "\n",
    "``` df = Picarro.Merge(Iso1,Iso2)```\n",
    "\n"
   ]
  },
  {
   "cell_type": "code",
   "execution_count": null,
   "metadata": {},
   "outputs": [],
   "source": [
    "df = pica.Merge(O18,D)\n",
    "\n",
    "df.head(18)"
   ]
  },
  {
   "cell_type": "markdown",
   "metadata": {},
   "source": [
    "#### 4 Picarro.OverviewPlot()\n",
    "\n",
    "This function takes two arguments; each must be an instance of class **Isotope**. It enables the plotting of the summary data.\n",
    "\n",
    "Example usage:\n",
    "\n",
    "```Picarro.OverviewPlot(Iso1,Iso2)```\n"
   ]
  },
  {
   "cell_type": "code",
   "execution_count": null,
   "metadata": {},
   "outputs": [],
   "source": [
    "pica.OverviewPlot(O18,D)"
   ]
  },
  {
   "cell_type": "markdown",
   "metadata": {},
   "source": [
    "#### 5 Picarro.DatatoCSV()\n",
    "\n",
    "This function takes two arguments; each must be an instance of class **Isotope**. The function writes the data to csv file for convenience of the user. \n",
    "\n",
    "Further development should include:\n",
    "\n",
    "1. Checking that the file does not already exist.\n",
    "2. Writing a new file it does not.\n",
    "\n",
    "Example usage:\n",
    "\n",
    "```Picarro.DatatoCSV(Iso1,Iso2)```\n",
    "\n"
   ]
  },
  {
   "cell_type": "code",
   "execution_count": null,
   "metadata": {},
   "outputs": [],
   "source": [
    "pica.OverviewDatatoCSV(O18,D)"
   ]
  },
  {
   "cell_type": "code",
   "execution_count": null,
   "metadata": {},
   "outputs": [],
   "source": [
    "import pandas as pd"
   ]
  },
  {
   "cell_type": "code",
   "execution_count": null,
   "metadata": {},
   "outputs": [],
   "source": [
    "col4 = \"d(18_16)vsmow_corrected\"\n",
    "df = O18.vsmow.loc[\"GE-22\"][col4]\n",
    "\n",
    "def runCheck(df,col4):\n",
    "    df1 = df.copy()\n",
    "    \n",
    "    stds = [] \n",
    "    stds.append((df1[col4].std(),\"no missing measurements\"))\n",
    "    \n",
    "    for i in range(len(df1[col4])):\n",
    "        statement = \"missing measurement {}\".format((i)%4)\n",
    "        stds.append((df.iloc[[i,(i+1)%4,(i+2)%4]].std(),statement))\n",
    "        statement =\"missing measurements {} and {}\".format((i)%4,(i+1)%4)\n",
    "        stds.append((df.iloc[[i,(i+1)%4]].std(),statement))\n",
    "        if i <2:\n",
    "            statement =\"missing measurements {} and {}\".format((i-1)%4+1,(i+1)%4+1)\n",
    "            stds.append((df.iloc[[i,(i+2)%4]].std(),statement))\n",
    "\n",
    "    def checks(mylist):\n",
    "        \n",
    "        if mylist[0][0]<0.1:\n",
    "            print(\"standad dev is good\")\n",
    "        else:\n",
    "            conds = [mylist[1][0],mylist[4][0],mylist[7][0],mylist[9][0]]\n",
    "            if min(conds) <0.1:\n",
    "                val = ((conds.index(min(conds))-1)%4)+1\n",
    "                print(val)\n",
    "                print(\"get rid of measurement {}\".format(val))\n",
    "                df1.drop(index = val ,level = 1, inplace = True)\n",
    "                \n",
    "            else:\n",
    "                conds2 = [mylist[2][0],mylist[3][0],mylist[5][0],mylist[6][0],mylist[8][0],mylist[10][0]]\n",
    "                if min(conds2) < 0.1:\n",
    "                    value= conds2.index(min(conds2))\n",
    "                    print(\"get rid of measurements {}\".format(stds[value][1][-8:]))\n",
    "\n",
    "    checks(stds)\n",
    "    return df1"
   ]
  },
  {
   "cell_type": "code",
   "execution_count": null,
   "metadata": {},
   "outputs": [],
   "source": [
    "runCheck(df)"
   ]
  },
  {
   "cell_type": "code",
   "execution_count": null,
   "metadata": {},
   "outputs": [],
   "source": []
  },
  {
   "cell_type": "code",
   "execution_count": null,
   "metadata": {},
   "outputs": [],
   "source": []
  }
 ],
 "metadata": {
  "kernelspec": {
   "display_name": "Python 3",
   "language": "python",
   "name": "python3"
  },
  "language_info": {
   "codemirror_mode": {
    "name": "ipython",
    "version": 3
   },
   "file_extension": ".py",
   "mimetype": "text/x-python",
   "name": "python",
   "nbconvert_exporter": "python",
   "pygments_lexer": "ipython3",
   "version": "3.6.7"
  }
 },
 "nbformat": 4,
 "nbformat_minor": 2
}

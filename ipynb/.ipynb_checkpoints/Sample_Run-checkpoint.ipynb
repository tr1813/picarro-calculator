{
 "cells": [
  {
   "cell_type": "markdown",
   "metadata": {},
   "source": [
    "## Sample PICARRO run\n",
    "\n",
    "This notebook emulates the Excel workflow that was proposed by van Geldern (2012).\n",
    "\n",
    "### Reading the raw data and producing a run summary\n",
    "\n",
    "First of all, we've got to read the raw data from PICARRO after one analysis.\n",
    "We check first whether a run line is *empty*."
   ]
  },
  {
   "cell_type": "code",
   "execution_count": 1,
   "metadata": {},
   "outputs": [
    {
     "name": "stdout",
     "output_type": "stream",
     "text": [
      "/Users/AchilleTalon/Documents/GitHub/picarro_calculator/picarro-calculator\n"
     ]
    }
   ],
   "source": [
    "cd .."
   ]
  },
  {
   "cell_type": "code",
   "execution_count": 2,
   "metadata": {},
   "outputs": [],
   "source": [
    "import Picarro as pica\n",
    "import numpy as np\n",
    "import matplotlib.pyplot as plt\n",
    "from scipy import stats\n",
    "from random import random"
   ]
  },
  {
   "cell_type": "code",
   "execution_count": 3,
   "metadata": {},
   "outputs": [
    {
     "name": "stdout",
     "output_type": "stream",
     "text": [
      "No empty cells. Proceeding...\n",
      "Warning: H20 value outside bounds on line 1...\n",
      "Warning: H20 value outside bounds on line 2...\n",
      "Warning: H20 value outside bounds on line 1...\n",
      "<class 'pandas.core.frame.DataFrame'>\n"
     ]
    }
   ],
   "source": [
    "run2,d2H,SD_coeffs_H = pica.initialTreatment(\"example_data/HKDS2009_IsoWater_20191106_083502.csv\",iso = \"H\")"
   ]
  },
  {
   "cell_type": "code",
   "execution_count": 4,
   "metadata": {},
   "outputs": [
    {
     "name": "stderr",
     "output_type": "stream",
     "text": [
      "/Users/AchilleTalon/Documents/GitHub/picarro_calculator/picarro-calculator/Picarro.py:413: SettingWithCopyWarning: \n",
      "A value is trying to be set on a copy of a slice from a DataFrame.\n",
      "Try using .loc[row_indexer,col_indexer] = value instead\n",
      "\n",
      "See the caveats in the documentation: http://pandas.pydata.org/pandas-docs/stable/indexing.html#indexing-view-versus-copy\n",
      "  df[col2] = df[col1] - df[\"Line\"]*params[\"slope\"]\n",
      "/Users/AchilleTalon/Documents/GitHub/picarro_calculator/picarro-calculator/Picarro.py:488: SettingWithCopyWarning: \n",
      "A value is trying to be set on a copy of a slice from a DataFrame.\n",
      "Try using .loc[row_indexer,col_indexer] = value instead\n",
      "\n",
      "See the caveats in the documentation: http://pandas.pydata.org/pandas-docs/stable/indexing.html#indexing-view-versus-copy\n",
      "  df[col1] = df[col2]*params[\"slope\"]+params[\"intercept\"]\n"
     ]
    },
    {
     "ename": "NameError",
     "evalue": "name 'option' is not defined",
     "output_type": "error",
     "traceback": [
      "\u001b[0;31m---------------------------------------------------------------------------\u001b[0m",
      "\u001b[0;31mNameError\u001b[0m                                 Traceback (most recent call last)",
      "\u001b[0;32m<ipython-input-4-95bb6d1af331>\u001b[0m in \u001b[0;36m<module>\u001b[0;34m()\u001b[0m\n\u001b[0;32m----> 1\u001b[0;31m \u001b[0mrun2\u001b[0m\u001b[0;34m,\u001b[0m\u001b[0md2H\u001b[0m\u001b[0;34m,\u001b[0m\u001b[0mSD_coeffs_H\u001b[0m \u001b[0;34m=\u001b[0m \u001b[0mpica\u001b[0m\u001b[0;34m.\u001b[0m\u001b[0msecondTreatment\u001b[0m\u001b[0;34m(\u001b[0m\u001b[0mrun2\u001b[0m\u001b[0;34m,\u001b[0m\u001b[0md2H\u001b[0m\u001b[0;34m,\u001b[0m\u001b[0miso\u001b[0m \u001b[0;34m=\u001b[0m \u001b[0;34m\"H\"\u001b[0m\u001b[0;34m)\u001b[0m\u001b[0;34m\u001b[0m\u001b[0;34m\u001b[0m\u001b[0m\n\u001b[0m",
      "\u001b[0;32m~/Documents/GitHub/picarro_calculator/picarro-calculator/Picarro.py\u001b[0m in \u001b[0;36msecondTreatment\u001b[0;34m(run, df, iso)\u001b[0m\n\u001b[1;32m    614\u001b[0m         \u001b[0mSD_Coeffs\u001b[0m \u001b[0;34m=\u001b[0m \u001b[0mupdateSD\u001b[0m\u001b[0;34m(\u001b[0m\u001b[0mSD_coeffs\u001b[0m\u001b[0;34m,\u001b[0m\u001b[0mdf\u001b[0m\u001b[0;34m,\u001b[0m \u001b[0misotope\u001b[0m \u001b[0;34m=\u001b[0m \u001b[0miso\u001b[0m\u001b[0;34m)\u001b[0m\u001b[0;34m\u001b[0m\u001b[0;34m\u001b[0m\u001b[0m\n\u001b[1;32m    615\u001b[0m \u001b[0;34m\u001b[0m\u001b[0m\n\u001b[0;32m--> 616\u001b[0;31m         \u001b[0;32mif\u001b[0m \u001b[0moption\u001b[0m \u001b[0;34m==\u001b[0m \u001b[0;34m\"Plot\"\u001b[0m\u001b[0;34m:\u001b[0m\u001b[0;34m\u001b[0m\u001b[0;34m\u001b[0m\u001b[0m\n\u001b[0m\u001b[1;32m    617\u001b[0m                 \u001b[0mplotSummary\u001b[0m\u001b[0;34m(\u001b[0m\u001b[0mrun\u001b[0m\u001b[0;34m)\u001b[0m\u001b[0;34m\u001b[0m\u001b[0;34m\u001b[0m\u001b[0m\n\u001b[1;32m    618\u001b[0m                 \u001b[0mmemCorrPlot\u001b[0m\u001b[0;34m(\u001b[0m\u001b[0mdf\u001b[0m\u001b[0;34m,\u001b[0m\u001b[0misotope\u001b[0m \u001b[0;34m=\u001b[0m \u001b[0miso\u001b[0m\u001b[0;34m)\u001b[0m\u001b[0;34m\u001b[0m\u001b[0;34m\u001b[0m\u001b[0m\n",
      "\u001b[0;31mNameError\u001b[0m: name 'option' is not defined"
     ]
    }
   ],
   "source": [
    "run2,d2H,SD_coeffs_H = pica.secondTreatment(run2,d2H,iso = \"H\")"
   ]
  },
  {
   "cell_type": "code",
   "execution_count": null,
   "metadata": {},
   "outputs": [],
   "source": []
  }
 ],
 "metadata": {
  "kernelspec": {
   "display_name": "Python 3",
   "language": "python",
   "name": "python3"
  },
  "language_info": {
   "codemirror_mode": {
    "name": "ipython",
    "version": 3
   },
   "file_extension": ".py",
   "mimetype": "text/x-python",
   "name": "python",
   "nbconvert_exporter": "python",
   "pygments_lexer": "ipython3",
   "version": "3.6.7"
  }
 },
 "nbformat": 4,
 "nbformat_minor": 2
}

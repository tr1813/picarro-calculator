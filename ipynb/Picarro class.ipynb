{
 "cells": [
  {
   "cell_type": "markdown",
   "metadata": {},
   "source": [
    "# Using 'Isotope' class for Picarro calculations"
   ]
  },
  {
   "cell_type": "code",
   "execution_count": 1,
   "metadata": {},
   "outputs": [
    {
     "name": "stdout",
     "output_type": "stream",
     "text": [
      "C:\\Users\\csas1756\\Documents\\GitHub\\picarro-calculator\n"
     ]
    }
   ],
   "source": [
    "cd .."
   ]
  },
  {
   "cell_type": "markdown",
   "metadata": {},
   "source": [
    "This notebook makes use of a new python class: Isotope.\n",
    "This class and its methods are found in the module Picarro, which we import below."
   ]
  },
  {
   "cell_type": "code",
   "execution_count": 2,
   "metadata": {},
   "outputs": [],
   "source": [
    "import Picarro as pica"
   ]
  },
  {
   "cell_type": "code",
   "execution_count": 4,
   "metadata": {},
   "outputs": [
    {
     "name": "stdout",
     "output_type": "stream",
     "text": [
      "Running the corrections for Oxygen \n",
      " ... \n",
      " ...\n",
      "Cannot convert column Analysis to numeric type\n",
      "Cannot convert column Time Code to numeric type\n",
      "Cannot convert column Port to numeric type\n",
      "Cannot convert column Gas Configuration to numeric type\n",
      "Cannot convert column Method to numeric type\n",
      "creating a directory to store the data\n"
     ]
    },
    {
     "name": "stderr",
     "output_type": "stream",
     "text": [
      "C:\\ProgramData\\Anaconda3\\lib\\site-packages\\pandas\\core\\ops\\__init__.py:1115: FutureWarning: elementwise comparison failed; returning scalar instead, but in the future will perform elementwise comparison\n",
      "  result = method(y)\n"
     ]
    },
    {
     "name": "stdout",
     "output_type": "stream",
     "text": [
      "Checking: Sh-237 ...\n",
      "Standard dev is good\n",
      "10357.0\n",
      "Checking: Sh-235 ...\n",
      "Standard dev is good\n",
      "10362.0\n",
      "Checking: Sh-244 ...\n",
      "Standard dev is good\n",
      "10353.0\n",
      "Checking: Sh-223 ...\n",
      "Standard dev is good\n",
      "10356.0\n",
      "Checking: Sh-224 ...\n",
      "Standard dev is good\n",
      "10358.0\n",
      "Checking: Sh-242 ...\n",
      "Standard dev is good\n",
      "10360.0\n",
      "10339.0\n",
      "Checking: Sh-255a ...\n",
      "Standard dev is good\n",
      "10347.0\n",
      "Checking: Sh-234 ...\n",
      "Standard dev is good\n",
      "10361.0\n",
      "Checking: Sh-250 ...\n",
      "Standard dev is good\n",
      "10346.0\n",
      "10337.0\n",
      "10340.0\n",
      "Checking: Sh-256 ...\n",
      "Standard dev too high get rid of measurement 1\n",
      "10348.0\n",
      "10338.0\n",
      "Checking: Sh-238 ...\n",
      "Standard dev is good\n",
      "10352.0\n",
      "Checking: Sh-248 ...\n",
      "Standard dev is good\n",
      "10343.0\n",
      "Checking: Sh-236 ...\n",
      "Standard dev is good\n",
      "10355.0\n",
      "Checking: Sh-254 ...\n",
      "get rid of measurements  1 and 3\n",
      "10349.0\n",
      "Checking: Sh-228 ...\n",
      "Standard dev is good\n",
      "10359.0\n",
      "Checking: Sh-249 ...\n",
      "Standard dev is good\n",
      "10344.0\n",
      "Checking: Sh-247 ...\n",
      "Standard dev is good\n",
      "10342.0\n",
      "Checking: Sh-253 ...\n",
      "get rid of measurements  2 and 3\n",
      "10351.0\n",
      "Checking: Sh-255 ...\n",
      "Standard dev is good\n",
      "10350.0\n",
      "Done! \n",
      " ... \n",
      " ...\n",
      " ... \n",
      " ...\n",
      "Running the corrections for Deuterium \n",
      " ... \n",
      " ...\n",
      "Cannot convert column Analysis to numeric type\n",
      "Cannot convert column Time Code to numeric type\n",
      "Cannot convert column Port to numeric type\n",
      "Cannot convert column Gas Configuration to numeric type\n",
      "Cannot convert column Method to numeric type\n",
      "Checking: Sh-237 ...\n",
      "Standard dev is good\n",
      "10357.0\n",
      "Checking: Sh-235 ...\n",
      "Standard dev is good\n",
      "10362.0\n",
      "Checking: Sh-244 ...\n",
      "Standard dev is good\n",
      "10353.0\n",
      "Checking: Sh-223 ...\n",
      "Standard dev is good\n",
      "10356.0\n",
      "Checking: Sh-224 ...\n",
      "Standard dev is good\n",
      "10358.0\n",
      "Checking: Sh-242 ...\n",
      "Standard dev is good\n",
      "10360.0\n",
      "10339.0\n",
      "Checking: Sh-255a ...\n",
      "Standard dev is good\n",
      "10347.0\n",
      "Checking: Sh-234 ...\n",
      "Standard dev is good\n",
      "10361.0\n",
      "Checking: Sh-250 ...\n",
      "Standard dev is good\n",
      "10346.0\n",
      "10337.0\n",
      "10340.0\n",
      "Checking: Sh-256 ...\n",
      "Standard dev too high get rid of measurement 1\n",
      "10348.0\n",
      "10338.0\n",
      "Checking: Sh-238 ...\n",
      "Standard dev is good\n",
      "10352.0\n",
      "Checking: Sh-248 ...\n",
      "Standard dev is good\n",
      "10343.0\n",
      "Checking: Sh-236 ...\n",
      "Standard dev is good\n",
      "10355.0\n",
      "Checking: Sh-254 ...\n",
      "get rid of measurements  4 and 2\n",
      "10349.0\n",
      "Checking: Sh-228 ...\n",
      "Standard dev is good\n",
      "10359.0\n",
      "Checking: Sh-249 ...\n",
      "Standard dev is good\n",
      "10344.0\n",
      "Checking: Sh-247 ...\n",
      "Standard dev is good\n",
      "10342.0\n",
      "Checking: Sh-253 ...\n",
      "get rid of measurements  2 and 3\n",
      "10351.0\n",
      "Checking: Sh-255 ...\n",
      "Standard dev is good\n",
      "10350.0\n",
      "Done!\n",
      "now merging the O and H isotope data \n",
      " ... \n",
      " ...\n",
      "Checking for triplicates...\n",
      "Some samples were not triplicated\n",
      "key\n",
      "10351.0    Sh-253\n",
      "10349.0    Sh-254\n",
      "Name: Identifier 1, dtype: object\n",
      "\n",
      "\n",
      "Checking for high standard deviations ...\n",
      "Suggested reruns for following samples, which had high standard deviations\n",
      "key\n",
      "10340.0       TAP\n",
      "10341.0       W22\n",
      "10345.0       TAP\n",
      "10349.0    Sh-254\n",
      "Name: Identifier 1, dtype: object\n",
      "\n",
      "\n",
      "Checking for samples lying outside of the GWML ...\n",
      "Suggested reruns for following samples, which were outside of the GMWL\n",
      "key\n",
      "10338.0     HAUS1\n",
      "10356.0    Sh-223\n",
      "Name: Identifier 1, dtype: object\n",
      "\n",
      "\n"
     ]
    }
   ],
   "source": [
    "RUN = pica.FullRun('example_data/HKDS2009_IsoWater_20191009_110451.csv')"
   ]
  },
  {
   "cell_type": "markdown",
   "metadata": {},
   "source": [
    "## Get a full run of the data\n",
    "In the Picarro module, it is possible to directly call for a full run of the data.\n",
    "\n",
    "This takes the form of:\n",
    "\n",
    "   ```RUN = Picarro.FullRun(filename)```\n",
    "\n",
    "and returns two instances of the Merged class."
   ]
  },
  {
   "cell_type": "markdown",
   "metadata": {},
   "source": [
    "## Overview of the Isotope class\n",
    "\n",
    "In the **Isotope** class, a variety of methods are available, so of which are used discreetly in the `FullRun()` function above.\n",
    "\n",
    "They are:\n",
    "\n",
    "For an initial treatment of the data:\n",
    "```\n",
    "readRaw() \n",
    "checkEmpty()\n",
    "checkVolume()\n",
    "runSummary()\n",
    "```\n",
    "\n",
    "For the computation of correction coefficients (workhorse of the class)\n",
    "```\n",
    "IsotopeSelect()\n",
    "initMemCoeffs()\n",
    "Optimize()\n",
    "MemoryCorrection()\n",
    "driftCorrect()\n",
    "VSMOWcorrect()\n",
    "```\n",
    "\n",
    "For additional checks\n",
    "```\n",
    "getMeanSDs()\n",
    "checkStandards()\n",
    "```\n",
    "\n",
    "For plotting convenience:\n",
    "\n",
    "```\n",
    "plotSummary()\n",
    "memCorrPlot()\n",
    "driftCorrPlot()\n",
    "VSMOWCorrPlot()\n",
    "```"
   ]
  },
  {
   "cell_type": "markdown",
   "metadata": {},
   "source": [
    "## Other functions of the Picarro module\n",
    "\n",
    "Below are a list of other functions available within the Picarro module:\n",
    "\n",
    "```\n",
    "1) Run()\n",
    "2) FullRun()\n",
    "3) Merge()\n",
    "4) OverviewPlot()\n",
    "5) DatatoCSV()\n",
    "```"
   ]
  },
  {
   "cell_type": "markdown",
   "metadata": {},
   "source": [
    "#### 1 Picarro.Run()\n",
    "\n",
    "This function takes in two arguments: \n",
    "1. Isotope of choice: \"O\" or \"D\"\n",
    "2. Filename: the path to csv data\n",
    "\n",
    "Returns an object of class **Isotope**\n",
    "\n",
    "An example usage: \n",
    "\n",
    "``` Isotope = Picarro.Run(isotope,path/to/file)```\n",
    "\n",
    "#### 2 Picarro.FullRun()\n",
    "\n",
    "This function takes in one argument:\n",
    "1. Filename: the path to csv data\n",
    "\n",
    "It returns one object of class **Merge**. This instance of class **Merged** has two class variables: O18 and D, which are themselves of Class **Isotope**, so all the above methods can be called on them.\n",
    "\n",
    "Example usage:\n",
    "\n",
    "``` RUN = Picarro.FullRun(path/to_file)```\n",
    "\n",
    "*Note that this is what was done in the cells above, for the 'quick and dirty' full run of the data*\n",
    "\n"
   ]
  },
  {
   "cell_type": "markdown",
   "metadata": {},
   "source": [
    "#### 3 Picarro.Merge()\n",
    "\n",
    "This function takes two arguments; each must be an instance of class **Isotope**. It returns a pandas DataFrame, containing the summary data of the run.\n",
    "\n",
    "Example usage: \n",
    "\n",
    "``` df = Picarro.Merge(Iso1,Iso2)```\n",
    "\n"
   ]
  },
  {
   "cell_type": "code",
   "execution_count": null,
   "metadata": {},
   "outputs": [],
   "source": [
    "RUN.O18.plotSummary()"
   ]
  },
  {
   "cell_type": "code",
   "execution_count": null,
   "metadata": {},
   "outputs": [],
   "source": [
    "RUN.O18.memory.iloc[34:38].index.values"
   ]
  },
  {
   "cell_type": "code",
   "execution_count": null,
   "metadata": {},
   "outputs": [],
   "source": [
    "RUN.O18.memCorrPlot(\"O\")\n",
    "RUN.O18.driftCorrPlot(\"O\")\n",
    "RUN.O18.VSMOWCorrPlot(\"O\")"
   ]
  },
  {
   "cell_type": "code",
   "execution_count": null,
   "metadata": {},
   "outputs": [],
   "source": [
    "RUN.D.memCorrPlot(\"H\")\n",
    "RUN.D.driftCorrPlot(\"H\")\n",
    "RUN.D.VSMOWCorrPlot(\"H\")"
   ]
  },
  {
   "cell_type": "code",
   "execution_count": null,
   "metadata": {},
   "outputs": [],
   "source": [
    "RUN.D.drift.head(40)"
   ]
  },
  {
   "cell_type": "code",
   "execution_count": null,
   "metadata": {},
   "outputs": [],
   "source": [
    "RUN.coeffs"
   ]
  },
  {
   "cell_type": "markdown",
   "metadata": {},
   "source": [
    "#### 4 Picarro.OverviewPlot()\n",
    "\n",
    "This function takes two arguments; each must be an instance of class **Isotope**. It enables the plotting of the summary data.\n",
    "\n",
    "Example usage:\n",
    "\n",
    "```Picarro.OverviewPlot(Iso1,Iso2)```\n"
   ]
  },
  {
   "cell_type": "markdown",
   "metadata": {},
   "source": [
    "#### 5 Picarro.DatatoCSV()\n",
    "\n",
    "This function takes two arguments; each must be an instance of class **Isotope**. The function writes the data to csv file for convenience of the user. \n",
    "\n",
    "Further development should include:\n",
    "\n",
    "1. Checking that the file does not already exist.\n",
    "2. Writing a new file it does not.\n",
    "\n",
    "Example usage:\n",
    "\n",
    "```Picarro.DatatoCSV(Iso1,Iso2)```\n",
    "\n"
   ]
  },
  {
   "cell_type": "code",
   "execution_count": null,
   "metadata": {},
   "outputs": [],
   "source": [
    "RUN.coeffs[\"H\"]"
   ]
  },
  {
   "cell_type": "code",
   "execution_count": null,
   "metadata": {},
   "outputs": [],
   "source": [
    "RUN.suggestedReruns()"
   ]
  },
  {
   "cell_type": "code",
   "execution_count": null,
   "metadata": {},
   "outputs": [],
   "source": [
    "RUN.trimmed"
   ]
  },
  {
   "cell_type": "code",
   "execution_count": null,
   "metadata": {},
   "outputs": [],
   "source": [
    "import numpy as np"
   ]
  },
  {
   "cell_type": "code",
   "execution_count": null,
   "metadata": {},
   "outputs": [],
   "source": [
    "x = np.arange(1,4)\n",
    "x"
   ]
  },
  {
   "cell_type": "code",
   "execution_count": null,
   "metadata": {},
   "outputs": [],
   "source": []
  }
 ],
 "metadata": {
  "kernelspec": {
   "display_name": "Python 3",
   "language": "python",
   "name": "python3"
  },
  "language_info": {
   "codemirror_mode": {
    "name": "ipython",
    "version": 3
   },
   "file_extension": ".py",
   "mimetype": "text/x-python",
   "name": "python",
   "nbconvert_exporter": "python",
   "pygments_lexer": "ipython3",
   "version": "3.7.4"
  }
 },
 "nbformat": 4,
 "nbformat_minor": 2
}

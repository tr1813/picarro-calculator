{
 "cells": [
  {
   "cell_type": "markdown",
   "metadata": {},
   "source": [
    "# Using 'Isotope' class for Picarro calculations"
   ]
  },
  {
   "cell_type": "code",
   "execution_count": 1,
   "metadata": {},
   "outputs": [
    {
     "name": "stdout",
     "output_type": "stream",
     "text": [
      "C:\\Users\\csas1756\\Documents\\GitHub\\picarro-calculator\n"
     ]
    }
   ],
   "source": [
    "cd .."
   ]
  },
  {
   "cell_type": "markdown",
   "metadata": {},
   "source": [
    "This notebook makes use of a new python class: Isotope.\n",
    "This class and its methods are found in the module Picarro, which we import below."
   ]
  },
  {
   "cell_type": "code",
   "execution_count": 2,
   "metadata": {},
   "outputs": [],
   "source": [
    "import Picarro as pica"
   ]
  },
  {
   "cell_type": "code",
   "execution_count": 3,
   "metadata": {},
   "outputs": [
    {
     "name": "stdout",
     "output_type": "stream",
     "text": [
      "Running the corrections for Oxygen \n",
      " ... \n",
      " ...\n"
     ]
    },
    {
     "ename": "Exception",
     "evalue": "Sample description missing, load it manually",
     "output_type": "error",
     "traceback": [
      "\u001b[1;31m---------------------------------------------------------------------------\u001b[0m",
      "\u001b[1;31mException\u001b[0m                                 Traceback (most recent call last)",
      "\u001b[1;32m<ipython-input-3-2644a8934bbb>\u001b[0m in \u001b[0;36m<module>\u001b[1;34m\u001b[0m\n\u001b[1;32m----> 1\u001b[1;33m \u001b[0mRUN\u001b[0m \u001b[1;33m=\u001b[0m \u001b[0mpica\u001b[0m\u001b[1;33m.\u001b[0m\u001b[0mFullRun\u001b[0m\u001b[1;33m(\u001b[0m\u001b[1;34m'example_data/HKDS2009_IsoWater_20191123_121229.csv'\u001b[0m\u001b[1;33m)\u001b[0m\u001b[1;33m\u001b[0m\u001b[1;33m\u001b[0m\u001b[0m\n\u001b[0m",
      "\u001b[1;32m~\\Documents\\GitHub\\picarro-calculator\\Picarro.py\u001b[0m in \u001b[0;36mFullRun\u001b[1;34m(filename)\u001b[0m\n\u001b[0;32m   1042\u001b[0m \u001b[1;33m\u001b[0m\u001b[0m\n\u001b[0;32m   1043\u001b[0m         \u001b[0mprint\u001b[0m\u001b[1;33m(\u001b[0m\u001b[1;34m\"Running the corrections for Oxygen \\n ... \\n ...\"\u001b[0m\u001b[1;33m)\u001b[0m\u001b[1;33m\u001b[0m\u001b[1;33m\u001b[0m\u001b[0m\n\u001b[1;32m-> 1044\u001b[1;33m         \u001b[0mX\u001b[0m \u001b[1;33m=\u001b[0m \u001b[0mRun\u001b[0m\u001b[1;33m(\u001b[0m\u001b[1;34m\"O\"\u001b[0m\u001b[1;33m,\u001b[0m\u001b[0mfilename\u001b[0m\u001b[1;33m)\u001b[0m\u001b[1;33m\u001b[0m\u001b[1;33m\u001b[0m\u001b[0m\n\u001b[0m\u001b[0;32m   1045\u001b[0m         \u001b[0mprint\u001b[0m\u001b[1;33m(\u001b[0m\u001b[1;34m'Done! \\n ... \\n ...\\n ... \\n ...'\u001b[0m\u001b[1;33m)\u001b[0m\u001b[1;33m\u001b[0m\u001b[1;33m\u001b[0m\u001b[0m\n\u001b[0;32m   1046\u001b[0m \u001b[1;33m\u001b[0m\u001b[0m\n",
      "\u001b[1;32m~\\Documents\\GitHub\\picarro-calculator\\Picarro.py\u001b[0m in \u001b[0;36mRun\u001b[1;34m(iso, filename)\u001b[0m\n\u001b[0;32m   1004\u001b[0m         \u001b[0mRUN\u001b[0m \u001b[1;33m=\u001b[0m \u001b[0mIsotope\u001b[0m\u001b[1;33m(\u001b[0m\u001b[0mfilename\u001b[0m\u001b[1;33m)\u001b[0m\u001b[1;33m\u001b[0m\u001b[1;33m\u001b[0m\u001b[0m\n\u001b[0;32m   1005\u001b[0m         \u001b[1;32mtry\u001b[0m\u001b[1;33m:\u001b[0m\u001b[1;33m\u001b[0m\u001b[1;33m\u001b[0m\u001b[0m\n\u001b[1;32m-> 1006\u001b[1;33m                 \u001b[0mRUN\u001b[0m\u001b[1;33m.\u001b[0m\u001b[0mreadRaw\u001b[0m\u001b[1;33m(\u001b[0m\u001b[1;33m)\u001b[0m\u001b[1;33m\u001b[0m\u001b[1;33m\u001b[0m\u001b[0m\n\u001b[0m\u001b[0;32m   1007\u001b[0m                 \u001b[0mRUN\u001b[0m\u001b[1;33m.\u001b[0m\u001b[0mDummyCheck\u001b[0m\u001b[1;33m(\u001b[0m\u001b[1;33m)\u001b[0m\u001b[1;33m\u001b[0m\u001b[1;33m\u001b[0m\u001b[0m\n\u001b[0;32m   1008\u001b[0m                 \u001b[0mRUN\u001b[0m\u001b[1;33m.\u001b[0m\u001b[0mcheckEmpty\u001b[0m\u001b[1;33m(\u001b[0m\u001b[1;33m)\u001b[0m\u001b[1;33m\u001b[0m\u001b[1;33m\u001b[0m\u001b[0m\n",
      "\u001b[1;32m~\\Documents\\GitHub\\picarro-calculator\\Picarro.py\u001b[0m in \u001b[0;36mreadRaw\u001b[1;34m(self)\u001b[0m\n\u001b[0;32m     59\u001b[0m                 \u001b[0mdf\u001b[0m\u001b[1;33m[\u001b[0m\u001b[1;34m\"Identifier 1\"\u001b[0m\u001b[1;33m]\u001b[0m \u001b[1;33m=\u001b[0m \u001b[1;33m[\u001b[0m\u001b[0mi\u001b[0m\u001b[1;33m.\u001b[0m\u001b[0mstrip\u001b[0m\u001b[1;33m(\u001b[0m\u001b[1;33m)\u001b[0m \u001b[1;32mfor\u001b[0m \u001b[0mi\u001b[0m \u001b[1;32min\u001b[0m \u001b[0mdf\u001b[0m\u001b[1;33m[\u001b[0m\u001b[1;34m\"Identifier 1\"\u001b[0m\u001b[1;33m]\u001b[0m\u001b[1;33m.\u001b[0m\u001b[0mvalues\u001b[0m\u001b[1;33m]\u001b[0m\u001b[1;33m\u001b[0m\u001b[1;33m\u001b[0m\u001b[0m\n\u001b[0;32m     60\u001b[0m                 \u001b[1;32mif\u001b[0m \u001b[0mlen\u001b[0m\u001b[1;33m(\u001b[0m\u001b[0mdf\u001b[0m\u001b[1;33m[\u001b[0m\u001b[1;34m'Identifier 1'\u001b[0m\u001b[1;33m]\u001b[0m\u001b[1;33m.\u001b[0m\u001b[0mvalues\u001b[0m\u001b[1;33m[\u001b[0m\u001b[1;36m0\u001b[0m\u001b[1;33m]\u001b[0m\u001b[1;33m)\u001b[0m \u001b[1;33m<\u001b[0m \u001b[1;36m1\u001b[0m\u001b[1;33m:\u001b[0m\u001b[1;33m\u001b[0m\u001b[1;33m\u001b[0m\u001b[0m\n\u001b[1;32m---> 61\u001b[1;33m                         \u001b[1;32mraise\u001b[0m \u001b[0mException\u001b[0m\u001b[1;33m(\u001b[0m\u001b[1;34m'Sample description missing, load it manually'\u001b[0m\u001b[1;33m)\u001b[0m\u001b[1;33m\u001b[0m\u001b[1;33m\u001b[0m\u001b[0m\n\u001b[0m\u001b[0;32m     62\u001b[0m                 \u001b[0mdf\u001b[0m\u001b[1;33m[\u001b[0m\u001b[1;34m\"Identifier 2\"\u001b[0m\u001b[1;33m]\u001b[0m \u001b[1;33m=\u001b[0m \u001b[1;33m[\u001b[0m\u001b[0mi\u001b[0m\u001b[1;33m.\u001b[0m\u001b[0mstrip\u001b[0m\u001b[1;33m(\u001b[0m\u001b[1;33m)\u001b[0m \u001b[1;32mfor\u001b[0m \u001b[0mi\u001b[0m \u001b[1;32min\u001b[0m \u001b[0mdf\u001b[0m\u001b[1;33m[\u001b[0m\u001b[1;34m\"Identifier 2\"\u001b[0m\u001b[1;33m]\u001b[0m\u001b[1;33m.\u001b[0m\u001b[0mvalues\u001b[0m\u001b[1;33m]\u001b[0m\u001b[1;33m\u001b[0m\u001b[1;33m\u001b[0m\u001b[0m\n\u001b[0;32m     63\u001b[0m                 \u001b[0mdf\u001b[0m\u001b[1;33m[\u001b[0m\u001b[1;34m\"Line\"\u001b[0m\u001b[1;33m]\u001b[0m \u001b[1;33m=\u001b[0m \u001b[1;33m[\u001b[0m\u001b[0mint\u001b[0m\u001b[1;33m(\u001b[0m\u001b[0mi\u001b[0m\u001b[1;33m)\u001b[0m \u001b[1;32mfor\u001b[0m \u001b[0mi\u001b[0m \u001b[1;32min\u001b[0m \u001b[0mdf\u001b[0m\u001b[1;33m[\u001b[0m\u001b[1;34m\"Line\"\u001b[0m\u001b[1;33m]\u001b[0m\u001b[1;33m]\u001b[0m\u001b[1;33m\u001b[0m\u001b[1;33m\u001b[0m\u001b[0m\n",
      "\u001b[1;31mException\u001b[0m: Sample description missing, load it manually"
     ]
    }
   ],
   "source": [
    "RUN = pica.FullRun('example_data/HKDS2009_IsoWater_20191123_121229.csv')"
   ]
  },
  {
   "cell_type": "markdown",
   "metadata": {},
   "source": [
    "## Get a full run of the data\n",
    "In the Picarro module, it is possible to directly call for a full run of the data.\n",
    "\n",
    "This takes the form of:\n",
    "\n",
    "   ```RUN = Picarro.FullRun(filename)```\n",
    "\n",
    "and returns two instances of the Merged class."
   ]
  },
  {
   "cell_type": "markdown",
   "metadata": {},
   "source": [
    "## Overview of the Isotope class\n",
    "\n",
    "In the **Isotope** class, a variety of methods are available, so of which are used discreetly in the `FullRun()` function above.\n",
    "\n",
    "They are:\n",
    "\n",
    "For an initial treatment of the data:\n",
    "```\n",
    "readRaw() \n",
    "checkEmpty()\n",
    "checkVolume()\n",
    "runSummary()\n",
    "```\n",
    "\n",
    "For the computation of correction coefficients (workhorse of the class)\n",
    "```\n",
    "IsotopeSelect()\n",
    "initMemCoeffs()\n",
    "Optimize()\n",
    "MemoryCorrection()\n",
    "driftCorrect()\n",
    "VSMOWcorrect()\n",
    "```\n",
    "\n",
    "For additional checks\n",
    "```\n",
    "getMeanSDs()\n",
    "checkStandards()\n",
    "```\n",
    "\n",
    "For plotting convenience:\n",
    "\n",
    "```\n",
    "plotSummary()\n",
    "memCorrPlot()\n",
    "driftCorrPlot()\n",
    "VSMOWCorrPlot()\n",
    "```"
   ]
  },
  {
   "cell_type": "markdown",
   "metadata": {},
   "source": [
    "## Other functions of the Picarro module\n",
    "\n",
    "Below are a list of other functions available within the Picarro module:\n",
    "\n",
    "```\n",
    "1) Run()\n",
    "2) FullRun()\n",
    "3) Merge()\n",
    "4) OverviewPlot()\n",
    "5) DatatoCSV()\n",
    "```"
   ]
  },
  {
   "cell_type": "markdown",
   "metadata": {},
   "source": [
    "#### 1 Picarro.Run()\n",
    "\n",
    "This function takes in two arguments: \n",
    "1. Isotope of choice: \"O\" or \"D\"\n",
    "2. Filename: the path to csv data\n",
    "\n",
    "Returns an object of class **Isotope**\n",
    "\n",
    "An example usage: \n",
    "\n",
    "``` Isotope = Picarro.Run(isotope,path/to/file)```\n",
    "\n",
    "#### 2 Picarro.FullRun()\n",
    "\n",
    "This function takes in one argument:\n",
    "1. Filename: the path to csv data\n",
    "\n",
    "It returns one object of class **Merge**. This instance of class **Merged** has two class variables: O18 and D, which are themselves of Class **Isotope**, so all the above methods can be called on them.\n",
    "\n",
    "Example usage:\n",
    "\n",
    "``` RUN = Picarro.FullRun(path/to_file)```\n",
    "\n",
    "*Note that this is what was done in the cells above, for the 'quick and dirty' full run of the data*\n",
    "\n"
   ]
  },
  {
   "cell_type": "markdown",
   "metadata": {},
   "source": [
    "#### 3 Picarro.Merge()\n",
    "\n",
    "This function takes two arguments; each must be an instance of class **Isotope**. It returns a pandas DataFrame, containing the summary data of the run.\n",
    "\n",
    "Example usage: \n",
    "\n",
    "``` df = Picarro.Merge(Iso1,Iso2)```\n",
    "\n"
   ]
  },
  {
   "cell_type": "code",
   "execution_count": null,
   "metadata": {},
   "outputs": [],
   "source": [
    "RUN.O18.plotSummary()"
   ]
  },
  {
   "cell_type": "code",
   "execution_count": null,
   "metadata": {},
   "outputs": [],
   "source": [
    "RUN.O18.memory.iloc[34:38].index.values"
   ]
  },
  {
   "cell_type": "code",
   "execution_count": null,
   "metadata": {},
   "outputs": [],
   "source": [
    "RUN.O18.memCorrPlot(\"O\")\n",
    "RUN.O18.driftCorrPlot(\"O\")\n",
    "RUN.O18.VSMOWCorrPlot(\"O\")"
   ]
  },
  {
   "cell_type": "code",
   "execution_count": null,
   "metadata": {},
   "outputs": [],
   "source": [
    "RUN.D.memCorrPlot(\"H\")\n",
    "RUN.D.driftCorrPlot(\"H\")\n",
    "RUN.D.VSMOWCorrPlot(\"H\")"
   ]
  },
  {
   "cell_type": "code",
   "execution_count": null,
   "metadata": {},
   "outputs": [],
   "source": [
    "RUN.D.drift.head(40)"
   ]
  },
  {
   "cell_type": "code",
   "execution_count": null,
   "metadata": {},
   "outputs": [],
   "source": [
    "RUN.coeffs"
   ]
  },
  {
   "cell_type": "markdown",
   "metadata": {},
   "source": [
    "#### 4 Picarro.OverviewPlot()\n",
    "\n",
    "This function takes two arguments; each must be an instance of class **Isotope**. It enables the plotting of the summary data.\n",
    "\n",
    "Example usage:\n",
    "\n",
    "```Picarro.OverviewPlot(Iso1,Iso2)```\n"
   ]
  },
  {
   "cell_type": "markdown",
   "metadata": {},
   "source": [
    "#### 5 Picarro.DatatoCSV()\n",
    "\n",
    "This function takes two arguments; each must be an instance of class **Isotope**. The function writes the data to csv file for convenience of the user. \n",
    "\n",
    "Further development should include:\n",
    "\n",
    "1. Checking that the file does not already exist.\n",
    "2. Writing a new file it does not.\n",
    "\n",
    "Example usage:\n",
    "\n",
    "```Picarro.DatatoCSV(Iso1,Iso2)```\n",
    "\n"
   ]
  },
  {
   "cell_type": "code",
   "execution_count": null,
   "metadata": {},
   "outputs": [],
   "source": [
    "RUN.coeffs[\"H\"]"
   ]
  },
  {
   "cell_type": "code",
   "execution_count": null,
   "metadata": {},
   "outputs": [],
   "source": [
    "RUN.suggestedReruns()"
   ]
  },
  {
   "cell_type": "code",
   "execution_count": null,
   "metadata": {},
   "outputs": [],
   "source": [
    "RUN.trimmed"
   ]
  },
  {
   "cell_type": "code",
   "execution_count": null,
   "metadata": {},
   "outputs": [],
   "source": [
    "import numpy as np"
   ]
  },
  {
   "cell_type": "code",
   "execution_count": null,
   "metadata": {},
   "outputs": [],
   "source": [
    "x = np.arange(1,4)\n",
    "x"
   ]
  },
  {
   "cell_type": "code",
   "execution_count": null,
   "metadata": {},
   "outputs": [],
   "source": []
  }
 ],
 "metadata": {
  "kernelspec": {
   "display_name": "Python 3",
   "language": "python",
   "name": "python3"
  },
  "language_info": {
   "codemirror_mode": {
    "name": "ipython",
    "version": 3
   },
   "file_extension": ".py",
   "mimetype": "text/x-python",
   "name": "python",
   "nbconvert_exporter": "python",
   "pygments_lexer": "ipython3",
   "version": "3.7.4"
  }
 },
 "nbformat": 4,
 "nbformat_minor": 2
}

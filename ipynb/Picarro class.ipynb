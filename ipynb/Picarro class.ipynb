{
 "cells": [
  {
   "cell_type": "markdown",
   "metadata": {},
   "source": [
    "# Using 'Isotope' class for Picarro calculations"
   ]
  },
  {
   "cell_type": "code",
   "execution_count": 1,
   "metadata": {},
   "outputs": [
    {
     "name": "stdout",
     "output_type": "stream",
     "text": [
      "/Users/AchilleTalon/Documents/GitHub/picarro_calculator/picarro-calculator\n"
     ]
    }
   ],
   "source": [
    "cd .."
   ]
  },
  {
   "cell_type": "markdown",
   "metadata": {},
   "source": [
    "This notebook makes use of a new python class: Isotope.\n",
    "This class and its methods are found in the module Picarro, which we import below."
   ]
  },
  {
   "cell_type": "code",
   "execution_count": 2,
   "metadata": {},
   "outputs": [],
   "source": [
    "import Picarro as pica"
   ]
  },
  {
   "cell_type": "markdown",
   "metadata": {},
   "source": [
    "## Get a full run of the data\n",
    "In the Picarro module, it is possible to directly call for a full run of the data.\n",
    "\n",
    "This takes the form of:\n",
    "\n",
    "   ```RUN = Picarro.FullRun(filename)```\n",
    "\n",
    "and returns two instances of the Merged class."
   ]
  },
  {
   "cell_type": "code",
   "execution_count": 3,
   "metadata": {},
   "outputs": [
    {
     "name": "stdout",
     "output_type": "stream",
     "text": [
      "Cannot convert column Analysis to numeric type\n",
      "Cannot convert column Time Code to numeric type\n",
      "Cannot convert column Port to numeric type\n",
      "Cannot convert column Gas Configuration to numeric type\n",
      "Cannot convert column Method to numeric type\n"
     ]
    }
   ],
   "source": [
    "#\n",
    "\n",
    "RUN = pica.Isotope('example_data/HKDS2009_IsoWater_20190109_092249.csv')\n",
    "RUN.readRaw()\n",
    "RUN.checkEmpty()\n",
    "RUN.checkVolume()\n",
    "RUN.setPrimaryKey()\n",
    "RUN.runSummary()\n",
    "RUN.IsotopeSelect('O')\n",
    "RUN.initMemCoeffs()\n",
    "RUN.Optimize('O',method = 'default')"
   ]
  },
  {
   "cell_type": "code",
   "execution_count": 4,
   "metadata": {},
   "outputs": [
    {
     "data": {
      "text/html": [
       "<div>\n",
       "<style scoped>\n",
       "    .dataframe tbody tr th:only-of-type {\n",
       "        vertical-align: middle;\n",
       "    }\n",
       "\n",
       "    .dataframe tbody tr th {\n",
       "        vertical-align: top;\n",
       "    }\n",
       "\n",
       "    .dataframe thead th {\n",
       "        text-align: right;\n",
       "    }\n",
       "</style>\n",
       "<table border=\"1\" class=\"dataframe\">\n",
       "  <thead>\n",
       "    <tr style=\"text-align: right;\">\n",
       "      <th></th>\n",
       "      <th></th>\n",
       "      <th>key</th>\n",
       "      <th>Line</th>\n",
       "      <th>d(18_16)Mean</th>\n",
       "      <th>Ignore</th>\n",
       "      <th>Error Code</th>\n",
       "      <th>RUN_ID</th>\n",
       "    </tr>\n",
       "    <tr>\n",
       "      <th>Identifier 2</th>\n",
       "      <th>Inj Nr</th>\n",
       "      <th></th>\n",
       "      <th></th>\n",
       "      <th></th>\n",
       "      <th></th>\n",
       "      <th></th>\n",
       "      <th></th>\n",
       "    </tr>\n",
       "  </thead>\n",
       "  <tbody>\n",
       "    <tr>\n",
       "      <th rowspan=\"3\" valign=\"top\">181129Voegelsberg</th>\n",
       "      <th>1</th>\n",
       "      <td>9142.0</td>\n",
       "      <td>105.0</td>\n",
       "      <td>-15.593</td>\n",
       "      <td>-1.0</td>\n",
       "      <td>0.0</td>\n",
       "      <td>2.019011e+13</td>\n",
       "    </tr>\n",
       "    <tr>\n",
       "      <th>3</th>\n",
       "      <td>9142.0</td>\n",
       "      <td>107.0</td>\n",
       "      <td>-15.938</td>\n",
       "      <td>-1.0</td>\n",
       "      <td>0.0</td>\n",
       "      <td>2.019011e+13</td>\n",
       "    </tr>\n",
       "    <tr>\n",
       "      <th>4</th>\n",
       "      <td>9142.0</td>\n",
       "      <td>108.0</td>\n",
       "      <td>-15.679</td>\n",
       "      <td>0.0</td>\n",
       "      <td>0.0</td>\n",
       "      <td>2.019011e+13</td>\n",
       "    </tr>\n",
       "  </tbody>\n",
       "</table>\n",
       "</div>"
      ],
      "text/plain": [
       "                             key   Line  d(18_16)Mean  Ignore  Error Code  \\\n",
       "Identifier 2      Inj Nr                                                    \n",
       "181129Voegelsberg 1       9142.0  105.0       -15.593    -1.0         0.0   \n",
       "                  3       9142.0  107.0       -15.938    -1.0         0.0   \n",
       "                  4       9142.0  108.0       -15.679     0.0         0.0   \n",
       "\n",
       "                                RUN_ID  \n",
       "Identifier 2      Inj Nr                \n",
       "181129Voegelsberg 1       2.019011e+13  \n",
       "                  3       2.019011e+13  \n",
       "                  4       2.019011e+13  "
      ]
     },
     "execution_count": 4,
     "metadata": {},
     "output_type": "execute_result"
    }
   ],
   "source": [
    "RUN.corr.loc[\"KB2_38m\"]"
   ]
  },
  {
   "cell_type": "markdown",
   "metadata": {},
   "source": [
    "## Overview of the Isotope class\n",
    "\n",
    "In the **Isotope** class, a variety of methods are available, so of which are used discreetly in the `FullRun()` function above.\n",
    "\n",
    "They are:\n",
    "\n",
    "For an initial treatment of the data:\n",
    "```\n",
    "readRaw() \n",
    "checkEmpty()\n",
    "checkVolume()\n",
    "runSummary()\n",
    "```\n",
    "\n",
    "For the computation of correction coefficients (workhorse of the class)\n",
    "```\n",
    "IsotopeSelect()\n",
    "initMemCoeffs()\n",
    "Optimize()\n",
    "MemoryCorrection()\n",
    "driftCorrect()\n",
    "VSMOWcorrect()\n",
    "```\n",
    "\n",
    "For additional checks\n",
    "```\n",
    "getMeanSDs()\n",
    "checkStandards()\n",
    "```\n",
    "\n",
    "For plotting convenience:\n",
    "\n",
    "```\n",
    "plotSummary()\n",
    "memCorrPlot()\n",
    "driftCorrPlot()\n",
    "VSMOWCorrPlot()\n",
    "```"
   ]
  },
  {
   "cell_type": "markdown",
   "metadata": {},
   "source": [
    "## Other functions of the Picarro module\n",
    "\n",
    "Below are a list of other functions available within the Picarro module:\n",
    "\n",
    "```\n",
    "1) Run()\n",
    "2) FullRun()\n",
    "3) Merge()\n",
    "4) OverviewPlot()\n",
    "5) DatatoCSV()\n",
    "```"
   ]
  },
  {
   "cell_type": "markdown",
   "metadata": {},
   "source": [
    "#### 1 Picarro.Run()\n",
    "\n",
    "This function takes in two arguments: \n",
    "1. Isotope of choice: \"O\" or \"D\"\n",
    "2. Filename: the path to csv data\n",
    "\n",
    "Returns an object of class **Isotope**\n",
    "\n",
    "An example usage: \n",
    "\n",
    "``` Isotope = Picarro.Run(isotope,path/to/file)```\n",
    "\n",
    "#### 2 Picarro.FullRun()\n",
    "\n",
    "This function takes in one argument:\n",
    "1. Filename: the path to csv data\n",
    "\n",
    "It returns one object of class **Merge**. This instance of class **Merged** has two class variables: O18 and D, which are themselves of Class **Isotope**, so all the above methods can be called on them.\n",
    "\n",
    "Example usage:\n",
    "\n",
    "``` RUN = Picarro.FullRun(path/to_file)```\n",
    "\n",
    "*Note that this is what was done in the cells above, for the 'quick and dirty' full run of the data*\n",
    "\n"
   ]
  },
  {
   "cell_type": "markdown",
   "metadata": {},
   "source": [
    "#### 3 Picarro.Merge()\n",
    "\n",
    "This function takes two arguments; each must be an instance of class **Isotope**. It returns a pandas DataFrame, containing the summary data of the run.\n",
    "\n",
    "Example usage: \n",
    "\n",
    "``` df = Picarro.Merge(Iso1,Iso2)```\n",
    "\n"
   ]
  },
  {
   "cell_type": "code",
   "execution_count": 7,
   "metadata": {},
   "outputs": [
    {
     "ename": "AttributeError",
     "evalue": "'Isotope' object has no attribute 'O18'",
     "output_type": "error",
     "traceback": [
      "\u001b[0;31m---------------------------------------------------------------------------\u001b[0m",
      "\u001b[0;31mAttributeError\u001b[0m                            Traceback (most recent call last)",
      "\u001b[0;32m<ipython-input-7-19dfed32bb75>\u001b[0m in \u001b[0;36m<module>\u001b[0;34m()\u001b[0m\n\u001b[0;32m----> 1\u001b[0;31m \u001b[0mRUN\u001b[0m\u001b[0;34m.\u001b[0m\u001b[0mO18\u001b[0m\u001b[0;34m.\u001b[0m\u001b[0mplotSummary\u001b[0m\u001b[0;34m(\u001b[0m\u001b[0;34m)\u001b[0m\u001b[0;34m\u001b[0m\u001b[0;34m\u001b[0m\u001b[0m\n\u001b[0m",
      "\u001b[0;31mAttributeError\u001b[0m: 'Isotope' object has no attribute 'O18'"
     ]
    }
   ],
   "source": [
    "RUN.O18.plotSummary()"
   ]
  },
  {
   "cell_type": "code",
   "execution_count": 8,
   "metadata": {},
   "outputs": [
    {
     "name": "stdout",
     "output_type": "stream",
     "text": [
      "Running the corrections for Oxygen \n",
      " ... \n",
      " ...\n",
      "Your file has 133 lines. I give up now...\n"
     ]
    },
    {
     "ename": "SystemExit",
     "evalue": "",
     "output_type": "error",
     "traceback": [
      "An exception has occurred, use %tb to see the full traceback.\n",
      "\u001b[0;31mSystemExit\u001b[0m\n"
     ]
    },
    {
     "name": "stderr",
     "output_type": "stream",
     "text": [
      "/Users/AchilleTalon/miniconda3/lib/python3.6/site-packages/IPython/core/interactiveshell.py:2918: UserWarning: To exit: use 'exit', 'quit', or Ctrl-D.\n",
      "  warn(\"To exit: use 'exit', 'quit', or Ctrl-D.\", stacklevel=1)\n"
     ]
    }
   ],
   "source": [
    "RUN = pica.FullRun('example_data/HKDS2009_IsoWater_20190417_075229.csv')"
   ]
  },
  {
   "cell_type": "code",
   "execution_count": null,
   "metadata": {},
   "outputs": [],
   "source": [
    "RUN.O18.memCorrPlot(\"O\")\n",
    "RUN.O18.driftCorrPlot(\"O\")\n",
    "RUN.O18.VSMOWCorrPlot(\"O\")"
   ]
  },
  {
   "cell_type": "code",
   "execution_count": null,
   "metadata": {},
   "outputs": [],
   "source": [
    "RUN.O18.corr.head(30)"
   ]
  },
  {
   "cell_type": "code",
   "execution_count": null,
   "metadata": {},
   "outputs": [],
   "source": [
    "RUN.D.memCorrPlot(\"H\")\n",
    "RUN.D.driftCorrPlot(\"H\")\n",
    "RUN.D.VSMOWCorrPlot(\"H\")"
   ]
  },
  {
   "cell_type": "code",
   "execution_count": null,
   "metadata": {},
   "outputs": [],
   "source": [
    "RUN.O18.corr"
   ]
  },
  {
   "cell_type": "code",
   "execution_count": null,
   "metadata": {},
   "outputs": [],
   "source": [
    "RUN.coeffs"
   ]
  },
  {
   "cell_type": "markdown",
   "metadata": {},
   "source": [
    "#### 4 Picarro.OverviewPlot()\n",
    "\n",
    "This function takes two arguments; each must be an instance of class **Isotope**. It enables the plotting of the summary data.\n",
    "\n",
    "Example usage:\n",
    "\n",
    "```Picarro.OverviewPlot(Iso1,Iso2)```\n"
   ]
  },
  {
   "cell_type": "markdown",
   "metadata": {},
   "source": [
    "#### 5 Picarro.DatatoCSV()\n",
    "\n",
    "This function takes two arguments; each must be an instance of class **Isotope**. The function writes the data to csv file for convenience of the user. \n",
    "\n",
    "Further development should include:\n",
    "\n",
    "1. Checking that the file does not already exist.\n",
    "2. Writing a new file it does not.\n",
    "\n",
    "Example usage:\n",
    "\n",
    "```Picarro.DatatoCSV(Iso1,Iso2)```\n",
    "\n"
   ]
  },
  {
   "cell_type": "code",
   "execution_count": null,
   "metadata": {},
   "outputs": [],
   "source": [
    "RUN.coeffs[\"H\"]"
   ]
  },
  {
   "cell_type": "code",
   "execution_count": null,
   "metadata": {},
   "outputs": [],
   "source": [
    "RUN.suggestedReruns()"
   ]
  },
  {
   "cell_type": "code",
   "execution_count": null,
   "metadata": {},
   "outputs": [],
   "source": [
    "RUN.merge"
   ]
  },
  {
   "cell_type": "code",
   "execution_count": null,
   "metadata": {},
   "outputs": [],
   "source": []
  }
 ],
 "metadata": {
  "kernelspec": {
   "display_name": "Python 3",
   "language": "python",
   "name": "python3"
  },
  "language_info": {
   "codemirror_mode": {
    "name": "ipython",
    "version": 3
   },
   "file_extension": ".py",
   "mimetype": "text/x-python",
   "name": "python",
   "nbconvert_exporter": "python",
   "pygments_lexer": "ipython3",
   "version": "3.6.7"
  }
 },
 "nbformat": 4,
 "nbformat_minor": 2
}

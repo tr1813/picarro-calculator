{
 "cells": [
  {
   "cell_type": "markdown",
   "metadata": {},
   "source": [
    "## NOTEBOOK IS NOW DONE"
   ]
  },
  {
   "cell_type": "markdown",
   "metadata": {},
   "source": [
    "This notebook is now done... \n",
    "The database is built, and most queries can be done using SQL language, so I make a new notebook for examples."
   ]
  },
  {
   "cell_type": "code",
   "execution_count": 1,
   "metadata": {},
   "outputs": [
    {
     "name": "stdout",
     "output_type": "stream",
     "text": [
      "C:\\Users\\csav6865\\Documents\\GitHub\\picarro-calculator\n"
     ]
    }
   ],
   "source": [
    "cd .."
   ]
  },
  {
   "cell_type": "code",
   "execution_count": 2,
   "metadata": {},
   "outputs": [],
   "source": [
    "import Picarro as pica\n",
    "import PicarroDatabase as pdb\n",
    "import pickle"
   ]
  },
  {
   "cell_type": "code",
   "execution_count": 3,
   "metadata": {
    "scrolled": true
   },
   "outputs": [
    {
     "name": "stdout",
     "output_type": "stream",
     "text": [
      "There is no new raw data in directory: J:\\c715\\Picarro\\Results\\Results 2019\\Raw data\n"
     ]
    }
   ],
   "source": [
    "files = pdb.checkforrawdata(r\"J:\\c715\\Picarro\\Results\\Results 2019\\Raw data\")"
   ]
  },
  {
   "cell_type": "code",
   "execution_count": 4,
   "metadata": {
    "scrolled": true
   },
   "outputs": [
    {
     "ename": "TypeError",
     "evalue": "'NoneType' object is not iterable",
     "output_type": "error",
     "traceback": [
      "\u001b[1;31m---------------------------------------------------------------------------\u001b[0m",
      "\u001b[1;31mTypeError\u001b[0m                                 Traceback (most recent call last)",
      "\u001b[1;32m<ipython-input-4-6ceb59885aa9>\u001b[0m in \u001b[0;36m<module>\u001b[1;34m\u001b[0m\n\u001b[0;32m      1\u001b[0m \u001b[0mconn\u001b[0m \u001b[1;33m=\u001b[0m \u001b[0mpdb\u001b[0m\u001b[1;33m.\u001b[0m\u001b[0mCreateConnection\u001b[0m\u001b[1;33m(\u001b[0m\u001b[1;34mr\"J:\\c715\\Picarro\\Results\\Database\\data.db\"\u001b[0m\u001b[1;33m)\u001b[0m\u001b[1;33m\u001b[0m\u001b[1;33m\u001b[0m\u001b[0m\n\u001b[0;32m      2\u001b[0m \u001b[1;33m\u001b[0m\u001b[0m\n\u001b[1;32m----> 3\u001b[1;33m \u001b[1;32mfor\u001b[0m \u001b[0mfile\u001b[0m \u001b[1;32min\u001b[0m \u001b[0mfiles\u001b[0m\u001b[1;33m:\u001b[0m\u001b[1;33m\u001b[0m\u001b[1;33m\u001b[0m\u001b[0m\n\u001b[0m\u001b[0;32m      4\u001b[0m     \u001b[0mpdb\u001b[0m\u001b[1;33m.\u001b[0m\u001b[0mAddRaw\u001b[0m\u001b[1;33m(\u001b[0m\u001b[0mfile\u001b[0m\u001b[1;33m,\u001b[0m\u001b[0mconn\u001b[0m\u001b[1;33m)\u001b[0m\u001b[1;33m\u001b[0m\u001b[1;33m\u001b[0m\u001b[0m\n\u001b[0;32m      5\u001b[0m     \u001b[1;32mtry\u001b[0m\u001b[1;33m:\u001b[0m\u001b[1;33m\u001b[0m\u001b[1;33m\u001b[0m\u001b[0m\n",
      "\u001b[1;31mTypeError\u001b[0m: 'NoneType' object is not iterable"
     ]
    }
   ],
   "source": [
    "conn = pdb.CreateConnection(r\"J:\\c715\\Picarro\\Results\\Database\\data.db\")\n",
    "\n",
    "for file in files:\n",
    "    pdb.AddRaw(file,conn)\n",
    "    try:\n",
    "        pdb.AddSummaryRun(file,conn)\n",
    "    except:\n",
    "        print(\"An error occurred\")"
   ]
  },
  {
   "cell_type": "code",
   "execution_count": 5,
   "metadata": {},
   "outputs": [],
   "source": [
    "import numpy as np\n",
    "import glob\n",
    "import pandas as pd"
   ]
  },
  {
   "cell_type": "markdown",
   "metadata": {},
   "source": [
    "Here, we've selected the run ids and their respective nicknames for the year 2019"
   ]
  },
  {
   "cell_type": "code",
   "execution_count": null,
   "metadata": {},
   "outputs": [],
   "source": [
    "df = pd.read_sql_query(\"select * from runs r where r.'Identifier 2' = 'TP';\",conn)\n",
    "df"
   ]
  },
  {
   "cell_type": "code",
   "execution_count": null,
   "metadata": {},
   "outputs": [],
   "source": [
    "df = pd.read_sql_query(\"select * from rawrun rw where rw.'Identifier 2'='YD';\",conn)\n",
    "df"
   ]
  },
  {
   "cell_type": "markdown",
   "metadata": {},
   "source": [
    "we can also select the runs based on what the name is like, for example: guffert runs."
   ]
  },
  {
   "cell_type": "code",
   "execution_count": null,
   "metadata": {},
   "outputs": [],
   "source": [
    "### In case the database is rebuilt, and the run look up table needs to be done again, uncomment the next bit of code.\n",
    "\n",
    "\n",
    "#strips = [\"~$\",\"J:\\\\c715\\\\Picarro\\\\Results\\\\Results 2019\\\\Picarro-Results-\",\".xlsx\",\"-\",\"_\"]\n",
    "\n",
    "#nicknames = []\n",
    "\n",
    "#for i in glob.glob(r\"J:\\c715\\Picarro\\Results\\Results 2019\\*.xlsx\"):\n",
    "#    full = i\n",
    "#    for j in strips:\n",
    "\n",
    "#        full = full.replace(j,\" \")\n",
    "#    #print(full)\n",
    "#    if full.startswith(\" 2019\") == True:\n",
    "#        nicknames.append(full)\n",
    "    \n",
    "#RUN_IDS = glob.glob(r\"J:\\c715\\Picarro\\Results\\Results 2019\\Raw data\\*.csv\")\n",
    "\n",
    "#for i,j in zip(nicknames,RUN_IDS):\n",
    "#    pdb.AddRun(j,i,conn)"
   ]
  },
  {
   "cell_type": "code",
   "execution_count": null,
   "metadata": {},
   "outputs": [],
   "source": []
  },
  {
   "cell_type": "code",
   "execution_count": null,
   "metadata": {},
   "outputs": [],
   "source": [
    "df = pd.read_sql_query(\"select * from runlookup rlk where rlk.NickName like '%Hundsalm%';\",conn)\n",
    "df"
   ]
  },
  {
   "cell_type": "markdown",
   "metadata": {},
   "source": [
    "Now let's execute a statement where the NickName is replaced."
   ]
  },
  {
   "cell_type": "code",
   "execution_count": 12,
   "metadata": {},
   "outputs": [],
   "source": [
    "import sqlite3\n",
    "from sqlite3 import Error\n",
    "\n",
    "def ReplaceName(conn,RUN_ID,newname):\n",
    "    \"\"\" create a table from the create_table_sql statement\n",
    "    :param conn: Connection object\n",
    "    :param RUN_ID: the run id, an eight digit integer with format yyyymmdd\n",
    "    :return: updated table name in \n",
    "\n",
    "    https://www.sqlitetutorial.net/sqlite-python/create-tables/\n",
    "    \"\"\"\n",
    "    \n",
    "    statement= \"\"\"UPDATE runlookup\n",
    "    SET RUN_ID = {0}, NickName = '{1}'\n",
    "    WHERE RUN_ID = {0};\"\"\".format(RUN_ID,newname)\n",
    "    \n",
    "    try:\n",
    "        c = conn.cursor()\n",
    "\n",
    "        c.execute(statement)\n",
    "    except Error as e:\n",
    "            print(e)\n",
    "    conn.commit()"
   ]
  },
  {
   "cell_type": "code",
   "execution_count": 13,
   "metadata": {},
   "outputs": [],
   "source": [
    "ids = [20190513,20190514,20190515,20190516,20190707]\n",
    "newnames=['2019 05 14 TR Hundsalm Run01',\n",
    "         '2019 05 15 TR Hundsalm Run02',\n",
    "         '2019 05 16 TR Hundsalm Run03',\n",
    "         '2019 05 17 TR Hundsalm Run04',\n",
    "         '2019 07 08 TR Hundsalm Run05']\n",
    "for i,j in zip(ids,newnames):\n",
    "    ReplaceName(conn,i,j)\n",
    "    \n",
    "\n"
   ]
  },
  {
   "cell_type": "code",
   "execution_count": 14,
   "metadata": {
    "scrolled": false
   },
   "outputs": [
    {
     "data": {
      "text/html": [
       "<div>\n",
       "<style scoped>\n",
       "    .dataframe tbody tr th:only-of-type {\n",
       "        vertical-align: middle;\n",
       "    }\n",
       "\n",
       "    .dataframe tbody tr th {\n",
       "        vertical-align: top;\n",
       "    }\n",
       "\n",
       "    .dataframe thead th {\n",
       "        text-align: right;\n",
       "    }\n",
       "</style>\n",
       "<table border=\"1\" class=\"dataframe\">\n",
       "  <thead>\n",
       "    <tr style=\"text-align: right;\">\n",
       "      <th></th>\n",
       "      <th>NickName</th>\n",
       "      <th>RUN_ID</th>\n",
       "    </tr>\n",
       "  </thead>\n",
       "  <tbody>\n",
       "    <tr>\n",
       "      <td>0</td>\n",
       "      <td>2019 05 14 TR Hundsalm Run01</td>\n",
       "      <td>20190513</td>\n",
       "    </tr>\n",
       "    <tr>\n",
       "      <td>1</td>\n",
       "      <td>2019 05 15 TR Hundsalm Run02</td>\n",
       "      <td>20190514</td>\n",
       "    </tr>\n",
       "    <tr>\n",
       "      <td>2</td>\n",
       "      <td>2019 05 16 TR Hundsalm Run03</td>\n",
       "      <td>20190515</td>\n",
       "    </tr>\n",
       "    <tr>\n",
       "      <td>3</td>\n",
       "      <td>2019 05 17 TR Hundsalm Run04</td>\n",
       "      <td>20190516</td>\n",
       "    </tr>\n",
       "    <tr>\n",
       "      <td>4</td>\n",
       "      <td>2019 07 08 TR Hundsalm Run05</td>\n",
       "      <td>20190707</td>\n",
       "    </tr>\n",
       "  </tbody>\n",
       "</table>\n",
       "</div>"
      ],
      "text/plain": [
       "                       NickName    RUN_ID\n",
       "0  2019 05 14 TR Hundsalm Run01  20190513\n",
       "1  2019 05 15 TR Hundsalm Run02  20190514\n",
       "2  2019 05 16 TR Hundsalm Run03  20190515\n",
       "3  2019 05 17 TR Hundsalm Run04  20190516\n",
       "4  2019 07 08 TR Hundsalm Run05  20190707"
      ]
     },
     "execution_count": 14,
     "metadata": {},
     "output_type": "execute_result"
    }
   ],
   "source": [
    "df = pd.read_sql_query(\"select * from runlookup rlk where rlk.NickName like '%Hundsalm%';\",conn)\n",
    "df"
   ]
  },
  {
   "cell_type": "code",
   "execution_count": 16,
   "metadata": {},
   "outputs": [
    {
     "data": {
      "text/html": [
       "<div>\n",
       "<style scoped>\n",
       "    .dataframe tbody tr th:only-of-type {\n",
       "        vertical-align: middle;\n",
       "    }\n",
       "\n",
       "    .dataframe tbody tr th {\n",
       "        vertical-align: top;\n",
       "    }\n",
       "\n",
       "    .dataframe thead th {\n",
       "        text-align: right;\n",
       "    }\n",
       "</style>\n",
       "<table border=\"1\" class=\"dataframe\">\n",
       "  <thead>\n",
       "    <tr style=\"text-align: right;\">\n",
       "      <th></th>\n",
       "      <th>NickName</th>\n",
       "      <th>RUN_ID</th>\n",
       "      <th>key</th>\n",
       "      <th>Identifier 1</th>\n",
       "      <th>Identifier 2</th>\n",
       "      <th>RUN_ID</th>\n",
       "      <th>position</th>\n",
       "      <th>d18O vsmow</th>\n",
       "      <th>d18O stdev. vsmow</th>\n",
       "      <th>d18O counts</th>\n",
       "      <th>d2H vsmow</th>\n",
       "      <th>d2H stdev. vsmow</th>\n",
       "      <th>d2H counts</th>\n",
       "      <th>inside GMWL</th>\n",
       "    </tr>\n",
       "  </thead>\n",
       "  <tbody>\n",
       "    <tr>\n",
       "      <td>0</td>\n",
       "      <td>2019 05 15 TR Hundsalm Run02</td>\n",
       "      <td>20190514</td>\n",
       "      <td>9635</td>\n",
       "      <td>TAP</td>\n",
       "      <td>_Conditioning</td>\n",
       "      <td>20190514</td>\n",
       "      <td>1</td>\n",
       "      <td>-13.391099</td>\n",
       "      <td>0.017152</td>\n",
       "      <td>4</td>\n",
       "      <td>-93.598271</td>\n",
       "      <td>0.305457</td>\n",
       "      <td>4</td>\n",
       "      <td>inside</td>\n",
       "    </tr>\n",
       "    <tr>\n",
       "      <td>1</td>\n",
       "      <td>2019 05 15 TR Hundsalm Run02</td>\n",
       "      <td>20190514</td>\n",
       "      <td>9636</td>\n",
       "      <td>HAUS1</td>\n",
       "      <td>_Standard</td>\n",
       "      <td>20190514</td>\n",
       "      <td>2</td>\n",
       "      <td>0.622775</td>\n",
       "      <td>0.089097</td>\n",
       "      <td>10</td>\n",
       "      <td>3.308604</td>\n",
       "      <td>0.352785</td>\n",
       "      <td>10</td>\n",
       "      <td>outside</td>\n",
       "    </tr>\n",
       "    <tr>\n",
       "      <td>2</td>\n",
       "      <td>2019 05 15 TR Hundsalm Run02</td>\n",
       "      <td>20190514</td>\n",
       "      <td>9637</td>\n",
       "      <td>HAUS2</td>\n",
       "      <td>_Standard</td>\n",
       "      <td>20190514</td>\n",
       "      <td>3</td>\n",
       "      <td>-29.859888</td>\n",
       "      <td>0.017355</td>\n",
       "      <td>10</td>\n",
       "      <td>-230.080662</td>\n",
       "      <td>0.017337</td>\n",
       "      <td>10</td>\n",
       "      <td>inside</td>\n",
       "    </tr>\n",
       "    <tr>\n",
       "      <td>3</td>\n",
       "      <td>2019 05 15 TR Hundsalm Run02</td>\n",
       "      <td>20190514</td>\n",
       "      <td>9638</td>\n",
       "      <td>TAP</td>\n",
       "      <td>_Standard</td>\n",
       "      <td>20190514</td>\n",
       "      <td>4</td>\n",
       "      <td>-13.442887</td>\n",
       "      <td>0.051945</td>\n",
       "      <td>10</td>\n",
       "      <td>-94.527942</td>\n",
       "      <td>0.388874</td>\n",
       "      <td>10</td>\n",
       "      <td>inside</td>\n",
       "    </tr>\n",
       "    <tr>\n",
       "      <td>4</td>\n",
       "      <td>2019 05 15 TR Hundsalm Run02</td>\n",
       "      <td>20190514</td>\n",
       "      <td>9639</td>\n",
       "      <td>W22</td>\n",
       "      <td>_Control W22</td>\n",
       "      <td>20190514</td>\n",
       "      <td>5</td>\n",
       "      <td>-3.246392</td>\n",
       "      <td>0.054727</td>\n",
       "      <td>4</td>\n",
       "      <td>-20.369468</td>\n",
       "      <td>0.560725</td>\n",
       "      <td>4</td>\n",
       "      <td>inside</td>\n",
       "    </tr>\n",
       "    <tr>\n",
       "      <td>...</td>\n",
       "      <td>...</td>\n",
       "      <td>...</td>\n",
       "      <td>...</td>\n",
       "      <td>...</td>\n",
       "      <td>...</td>\n",
       "      <td>...</td>\n",
       "      <td>...</td>\n",
       "      <td>...</td>\n",
       "      <td>...</td>\n",
       "      <td>...</td>\n",
       "      <td>...</td>\n",
       "      <td>...</td>\n",
       "      <td>...</td>\n",
       "      <td>...</td>\n",
       "    </tr>\n",
       "    <tr>\n",
       "      <td>76</td>\n",
       "      <td>2019 07 08 TR Hundsalm Run05</td>\n",
       "      <td>20190707</td>\n",
       "      <td>9900</td>\n",
       "      <td>HU-042-7DAY</td>\n",
       "      <td>20190601Hundsalm</td>\n",
       "      <td>20190707</td>\n",
       "      <td>23</td>\n",
       "      <td>-12.962829</td>\n",
       "      <td>0.019094</td>\n",
       "      <td>4</td>\n",
       "      <td>-95.576305</td>\n",
       "      <td>0.234611</td>\n",
       "      <td>4</td>\n",
       "      <td>inside</td>\n",
       "    </tr>\n",
       "    <tr>\n",
       "      <td>77</td>\n",
       "      <td>2019 07 08 TR Hundsalm Run05</td>\n",
       "      <td>20190707</td>\n",
       "      <td>9901</td>\n",
       "      <td>HU-043-7DAY</td>\n",
       "      <td>20190601Hundsalm</td>\n",
       "      <td>20190707</td>\n",
       "      <td>24</td>\n",
       "      <td>-12.736365</td>\n",
       "      <td>0.035587</td>\n",
       "      <td>4</td>\n",
       "      <td>-91.859017</td>\n",
       "      <td>0.197248</td>\n",
       "      <td>4</td>\n",
       "      <td>inside</td>\n",
       "    </tr>\n",
       "    <tr>\n",
       "      <td>78</td>\n",
       "      <td>2019 07 08 TR Hundsalm Run05</td>\n",
       "      <td>20190707</td>\n",
       "      <td>9902</td>\n",
       "      <td>XX4-7DAY</td>\n",
       "      <td>20190601Hundsalm</td>\n",
       "      <td>20190707</td>\n",
       "      <td>25</td>\n",
       "      <td>-9.190924</td>\n",
       "      <td>0.080785</td>\n",
       "      <td>4</td>\n",
       "      <td>-64.388225</td>\n",
       "      <td>0.472473</td>\n",
       "      <td>4</td>\n",
       "      <td>inside</td>\n",
       "    </tr>\n",
       "    <tr>\n",
       "      <td>79</td>\n",
       "      <td>2019 07 08 TR Hundsalm Run05</td>\n",
       "      <td>20190707</td>\n",
       "      <td>9903</td>\n",
       "      <td>XX5-7DAY</td>\n",
       "      <td>20190601Hundsalm</td>\n",
       "      <td>20190707</td>\n",
       "      <td>26</td>\n",
       "      <td>-10.149943</td>\n",
       "      <td>0.065672</td>\n",
       "      <td>2</td>\n",
       "      <td>-72.017654</td>\n",
       "      <td>0.443688</td>\n",
       "      <td>3</td>\n",
       "      <td>inside</td>\n",
       "    </tr>\n",
       "    <tr>\n",
       "      <td>80</td>\n",
       "      <td>2019 07 08 TR Hundsalm Run05</td>\n",
       "      <td>20190707</td>\n",
       "      <td>9904</td>\n",
       "      <td>TAP</td>\n",
       "      <td>_Control 3</td>\n",
       "      <td>20190707</td>\n",
       "      <td>27</td>\n",
       "      <td>-13.394594</td>\n",
       "      <td>0.144130</td>\n",
       "      <td>3</td>\n",
       "      <td>-94.105890</td>\n",
       "      <td>0.395328</td>\n",
       "      <td>3</td>\n",
       "      <td>inside</td>\n",
       "    </tr>\n",
       "  </tbody>\n",
       "</table>\n",
       "<p>81 rows × 14 columns</p>\n",
       "</div>"
      ],
      "text/plain": [
       "                        NickName    RUN_ID   key Identifier 1  \\\n",
       "0   2019 05 15 TR Hundsalm Run02  20190514  9635          TAP   \n",
       "1   2019 05 15 TR Hundsalm Run02  20190514  9636        HAUS1   \n",
       "2   2019 05 15 TR Hundsalm Run02  20190514  9637        HAUS2   \n",
       "3   2019 05 15 TR Hundsalm Run02  20190514  9638          TAP   \n",
       "4   2019 05 15 TR Hundsalm Run02  20190514  9639          W22   \n",
       "..                           ...       ...   ...          ...   \n",
       "76  2019 07 08 TR Hundsalm Run05  20190707  9900  HU-042-7DAY   \n",
       "77  2019 07 08 TR Hundsalm Run05  20190707  9901  HU-043-7DAY   \n",
       "78  2019 07 08 TR Hundsalm Run05  20190707  9902     XX4-7DAY   \n",
       "79  2019 07 08 TR Hundsalm Run05  20190707  9903     XX5-7DAY   \n",
       "80  2019 07 08 TR Hundsalm Run05  20190707  9904          TAP   \n",
       "\n",
       "        Identifier 2    RUN_ID  position  d18O vsmow  d18O stdev. vsmow  \\\n",
       "0      _Conditioning  20190514         1  -13.391099           0.017152   \n",
       "1          _Standard  20190514         2    0.622775           0.089097   \n",
       "2          _Standard  20190514         3  -29.859888           0.017355   \n",
       "3          _Standard  20190514         4  -13.442887           0.051945   \n",
       "4       _Control W22  20190514         5   -3.246392           0.054727   \n",
       "..               ...       ...       ...         ...                ...   \n",
       "76  20190601Hundsalm  20190707        23  -12.962829           0.019094   \n",
       "77  20190601Hundsalm  20190707        24  -12.736365           0.035587   \n",
       "78  20190601Hundsalm  20190707        25   -9.190924           0.080785   \n",
       "79  20190601Hundsalm  20190707        26  -10.149943           0.065672   \n",
       "80        _Control 3  20190707        27  -13.394594           0.144130   \n",
       "\n",
       "    d18O counts   d2H vsmow  d2H stdev. vsmow  d2H counts inside GMWL  \n",
       "0             4  -93.598271          0.305457           4      inside  \n",
       "1            10    3.308604          0.352785          10     outside  \n",
       "2            10 -230.080662          0.017337          10      inside  \n",
       "3            10  -94.527942          0.388874          10      inside  \n",
       "4             4  -20.369468          0.560725           4      inside  \n",
       "..          ...         ...               ...         ...         ...  \n",
       "76            4  -95.576305          0.234611           4      inside  \n",
       "77            4  -91.859017          0.197248           4      inside  \n",
       "78            4  -64.388225          0.472473           4      inside  \n",
       "79            2  -72.017654          0.443688           3      inside  \n",
       "80            3  -94.105890          0.395328           3      inside  \n",
       "\n",
       "[81 rows x 14 columns]"
      ]
     },
     "execution_count": 16,
     "metadata": {},
     "output_type": "execute_result"
    }
   ],
   "source": [
    "statement =\"\"\"SELECT * from runlookup rlk,runs r \n",
    "            WHERE (\n",
    "            rlk.NickName like '%Hundsalm%'\n",
    "            AND r.RUN_ID= rlk.RUN_ID\n",
    "            );\"\"\"\n",
    "\n",
    "df = pd.read_sql_query(statement,conn)\n",
    "df"
   ]
  },
  {
   "cell_type": "code",
   "execution_count": null,
   "metadata": {},
   "outputs": [],
   "source": [
    "df = pd.read_sql_query(\"select r.'Identifier 1',r.'Identifier 2' from rawrun r where RUN_ID = 20190513\",conn)"
   ]
  },
  {
   "cell_type": "code",
   "execution_count": null,
   "metadata": {
    "scrolled": true
   },
   "outputs": [],
   "source": [
    "df1 = pd.read_csv(r\"J:\\c715\\Picarro\\Results\\Results 2019\\Raw data\\HKDS2009_IsoWater_20190513_142143.csv\")"
   ]
  },
  {
   "cell_type": "code",
   "execution_count": null,
   "metadata": {},
   "outputs": [],
   "source": [
    "df1.head(50)"
   ]
  },
  {
   "cell_type": "code",
   "execution_count": null,
   "metadata": {},
   "outputs": [],
   "source": [
    "pd.read_sql_query(\"select * from runlookup rlk,runs r where (rlk.NickName like '%Hundsalm%' and (r.RUN_ID = rlk.RUN_ID and r.'Identifier 2'  like '%Hundsalm%'));\",conn)"
   ]
  },
  {
   "cell_type": "code",
   "execution_count": null,
   "metadata": {},
   "outputs": [],
   "source": [
    "pd.read_sql_query(\"select * from runs where\")"
   ]
  },
  {
   "cell_type": "code",
   "execution_count": null,
   "metadata": {},
   "outputs": [],
   "source": [
    "pd.read_sql_query(\"select * from runs\",conn)"
   ]
  },
  {
   "cell_type": "code",
   "execution_count": null,
   "metadata": {},
   "outputs": [],
   "source": []
  }
 ],
 "metadata": {
  "kernelspec": {
   "display_name": "Python 3",
   "language": "python",
   "name": "python3"
  },
  "language_info": {
   "codemirror_mode": {
    "name": "ipython",
    "version": 3
   },
   "file_extension": ".py",
   "mimetype": "text/x-python",
   "name": "python",
   "nbconvert_exporter": "python",
   "pygments_lexer": "ipython3",
   "version": "3.7.4"
  }
 },
 "nbformat": 4,
 "nbformat_minor": 2
}

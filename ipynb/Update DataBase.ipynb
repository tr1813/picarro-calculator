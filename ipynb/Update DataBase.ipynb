{
 "cells": [
  {
   "cell_type": "markdown",
   "metadata": {},
   "source": [
    "## NOTEBOOK IS NOW DONE"
   ]
  },
  {
   "cell_type": "markdown",
   "metadata": {},
   "source": [
    "This notebook is now done... \n",
    "The database is built, and most queries can be done using SQL language, so I make a new notebook for examples."
   ]
  },
  {
   "cell_type": "code",
   "execution_count": 1,
   "metadata": {},
   "outputs": [
    {
     "name": "stdout",
     "output_type": "stream",
     "text": [
      "C:\\Users\\csav6865\\Documents\\GitHub\\picarro-calculator\n"
     ]
    }
   ],
   "source": [
    "cd .."
   ]
  },
  {
   "cell_type": "code",
   "execution_count": 2,
   "metadata": {},
   "outputs": [],
   "source": [
    "import Picarro as pica\n",
    "import PicarroDatabase as pdb\n",
    "import pickle"
   ]
  },
  {
   "cell_type": "code",
   "execution_count": 3,
   "metadata": {
    "scrolled": true
   },
   "outputs": [
    {
     "name": "stdout",
     "output_type": "stream",
     "text": [
      "There is no new raw data in directory: J:\\c715\\Picarro\\Results\\Results 2019\\Raw data\n"
     ]
    }
   ],
   "source": [
    "files = pdb.checkforrawdata(r\"J:\\c715\\Picarro\\Results\\Results 2019\\Raw data\")"
   ]
  },
  {
   "cell_type": "code",
   "execution_count": 4,
   "metadata": {
    "scrolled": true
   },
   "outputs": [
    {
     "ename": "TypeError",
     "evalue": "'NoneType' object is not iterable",
     "output_type": "error",
     "traceback": [
      "\u001b[1;31m---------------------------------------------------------------------------\u001b[0m",
      "\u001b[1;31mTypeError\u001b[0m                                 Traceback (most recent call last)",
      "\u001b[1;32m<ipython-input-4-6ceb59885aa9>\u001b[0m in \u001b[0;36m<module>\u001b[1;34m\u001b[0m\n\u001b[0;32m      1\u001b[0m \u001b[0mconn\u001b[0m \u001b[1;33m=\u001b[0m \u001b[0mpdb\u001b[0m\u001b[1;33m.\u001b[0m\u001b[0mCreateConnection\u001b[0m\u001b[1;33m(\u001b[0m\u001b[1;34mr\"J:\\c715\\Picarro\\Results\\Database\\data.db\"\u001b[0m\u001b[1;33m)\u001b[0m\u001b[1;33m\u001b[0m\u001b[1;33m\u001b[0m\u001b[0m\n\u001b[0;32m      2\u001b[0m \u001b[1;33m\u001b[0m\u001b[0m\n\u001b[1;32m----> 3\u001b[1;33m \u001b[1;32mfor\u001b[0m \u001b[0mfile\u001b[0m \u001b[1;32min\u001b[0m \u001b[0mfiles\u001b[0m\u001b[1;33m:\u001b[0m\u001b[1;33m\u001b[0m\u001b[1;33m\u001b[0m\u001b[0m\n\u001b[0m\u001b[0;32m      4\u001b[0m     \u001b[0mpdb\u001b[0m\u001b[1;33m.\u001b[0m\u001b[0mAddRaw\u001b[0m\u001b[1;33m(\u001b[0m\u001b[0mfile\u001b[0m\u001b[1;33m,\u001b[0m\u001b[0mconn\u001b[0m\u001b[1;33m)\u001b[0m\u001b[1;33m\u001b[0m\u001b[1;33m\u001b[0m\u001b[0m\n\u001b[0;32m      5\u001b[0m     \u001b[1;32mtry\u001b[0m\u001b[1;33m:\u001b[0m\u001b[1;33m\u001b[0m\u001b[1;33m\u001b[0m\u001b[0m\n",
      "\u001b[1;31mTypeError\u001b[0m: 'NoneType' object is not iterable"
     ]
    }
   ],
   "source": [
    "conn = pdb.CreateConnection(r\"J:\\c715\\Picarro\\Results\\Database\\data.db\")\n",
    "\n",
    "for file in files:\n",
    "    pdb.AddRaw(file,conn)\n",
    "    try:\n",
    "        pdb.AddSummaryRun(file,conn)\n",
    "    except:\n",
    "        print(\"An error occurred\")"
   ]
  },
  {
   "cell_type": "code",
   "execution_count": 5,
   "metadata": {},
   "outputs": [],
   "source": [
    "import numpy as np\n",
    "import glob\n",
    "import pandas as pd"
   ]
  },
  {
   "cell_type": "markdown",
   "metadata": {},
   "source": [
    "Here, we've selected the run ids and their respective nicknames for the year 2019"
   ]
  },
  {
   "cell_type": "code",
   "execution_count": 6,
   "metadata": {},
   "outputs": [
    {
     "data": {
      "text/html": [
       "<div>\n",
       "<style scoped>\n",
       "    .dataframe tbody tr th:only-of-type {\n",
       "        vertical-align: middle;\n",
       "    }\n",
       "\n",
       "    .dataframe tbody tr th {\n",
       "        vertical-align: top;\n",
       "    }\n",
       "\n",
       "    .dataframe thead th {\n",
       "        text-align: right;\n",
       "    }\n",
       "</style>\n",
       "<table border=\"1\" class=\"dataframe\">\n",
       "  <thead>\n",
       "    <tr style=\"text-align: right;\">\n",
       "      <th></th>\n",
       "      <th>key</th>\n",
       "      <th>Identifier 1</th>\n",
       "      <th>Identifier 2</th>\n",
       "      <th>RUN_ID</th>\n",
       "      <th>position</th>\n",
       "      <th>d18O vsmow</th>\n",
       "      <th>d18O stdev. vsmow</th>\n",
       "      <th>d18O counts</th>\n",
       "      <th>d2H vsmow</th>\n",
       "      <th>d2H stdev. vsmow</th>\n",
       "      <th>d2H counts</th>\n",
       "      <th>inside GMWL</th>\n",
       "    </tr>\n",
       "  </thead>\n",
       "  <tbody>\n",
       "    <tr>\n",
       "      <td>0</td>\n",
       "      <td>9095.0</td>\n",
       "      <td>TAP</td>\n",
       "      <td>_Conditioning</td>\n",
       "      <td>20190108</td>\n",
       "      <td>1.0</td>\n",
       "      <td>-13.561595</td>\n",
       "      <td>0.071819</td>\n",
       "      <td>4</td>\n",
       "      <td>-94.428744</td>\n",
       "      <td>0.398818</td>\n",
       "      <td>4</td>\n",
       "      <td>inside</td>\n",
       "    </tr>\n",
       "    <tr>\n",
       "      <td>1</td>\n",
       "      <td>9098.0</td>\n",
       "      <td>TAP</td>\n",
       "      <td>_Standard</td>\n",
       "      <td>20190108</td>\n",
       "      <td>4.0</td>\n",
       "      <td>-13.086380</td>\n",
       "      <td>0.194695</td>\n",
       "      <td>10</td>\n",
       "      <td>-94.245823</td>\n",
       "      <td>0.573695</td>\n",
       "      <td>10</td>\n",
       "      <td>inside</td>\n",
       "    </tr>\n",
       "    <tr>\n",
       "      <td>2</td>\n",
       "      <td>9103.0</td>\n",
       "      <td>TAP</td>\n",
       "      <td>_Control 1</td>\n",
       "      <td>20190108</td>\n",
       "      <td>9.0</td>\n",
       "      <td>-13.291948</td>\n",
       "      <td>0.290536</td>\n",
       "      <td>3</td>\n",
       "      <td>-94.287463</td>\n",
       "      <td>1.365812</td>\n",
       "      <td>3</td>\n",
       "      <td>inside</td>\n",
       "    </tr>\n",
       "    <tr>\n",
       "      <td>3</td>\n",
       "      <td>9112.0</td>\n",
       "      <td>TAP</td>\n",
       "      <td>_Control 2</td>\n",
       "      <td>20190108</td>\n",
       "      <td>18.0</td>\n",
       "      <td>-13.306232</td>\n",
       "      <td>0.037493</td>\n",
       "      <td>3</td>\n",
       "      <td>-94.056270</td>\n",
       "      <td>0.079869</td>\n",
       "      <td>3</td>\n",
       "      <td>inside</td>\n",
       "    </tr>\n",
       "    <tr>\n",
       "      <td>4</td>\n",
       "      <td>9121.0</td>\n",
       "      <td>TAP</td>\n",
       "      <td>_Control 3</td>\n",
       "      <td>20190108</td>\n",
       "      <td>27.0</td>\n",
       "      <td>-13.463029</td>\n",
       "      <td>0.184998</td>\n",
       "      <td>3</td>\n",
       "      <td>-94.590554</td>\n",
       "      <td>1.100233</td>\n",
       "      <td>3</td>\n",
       "      <td>inside</td>\n",
       "    </tr>\n",
       "    <tr>\n",
       "      <td>...</td>\n",
       "      <td>...</td>\n",
       "      <td>...</td>\n",
       "      <td>...</td>\n",
       "      <td>...</td>\n",
       "      <td>...</td>\n",
       "      <td>...</td>\n",
       "      <td>...</td>\n",
       "      <td>...</td>\n",
       "      <td>...</td>\n",
       "      <td>...</td>\n",
       "      <td>...</td>\n",
       "      <td>...</td>\n",
       "    </tr>\n",
       "    <tr>\n",
       "      <td>365</td>\n",
       "      <td>11419.0</td>\n",
       "      <td>TAP</td>\n",
       "      <td>_Conditioning</td>\n",
       "      <td>20191123</td>\n",
       "      <td>1.0</td>\n",
       "      <td>-13.273059</td>\n",
       "      <td>0.064035</td>\n",
       "      <td>4</td>\n",
       "      <td>-93.786574</td>\n",
       "      <td>0.071990</td>\n",
       "      <td>4</td>\n",
       "      <td>inside</td>\n",
       "    </tr>\n",
       "    <tr>\n",
       "      <td>366</td>\n",
       "      <td>11422.0</td>\n",
       "      <td>TAP</td>\n",
       "      <td>_Standard</td>\n",
       "      <td>20191123</td>\n",
       "      <td>4.0</td>\n",
       "      <td>-13.477003</td>\n",
       "      <td>0.099757</td>\n",
       "      <td>10</td>\n",
       "      <td>-94.857735</td>\n",
       "      <td>0.449674</td>\n",
       "      <td>10</td>\n",
       "      <td>inside</td>\n",
       "    </tr>\n",
       "    <tr>\n",
       "      <td>367</td>\n",
       "      <td>11427.0</td>\n",
       "      <td>TAP</td>\n",
       "      <td>_Control 1</td>\n",
       "      <td>20191123</td>\n",
       "      <td>9.0</td>\n",
       "      <td>-13.338241</td>\n",
       "      <td>0.031637</td>\n",
       "      <td>3</td>\n",
       "      <td>-93.627648</td>\n",
       "      <td>0.127276</td>\n",
       "      <td>3</td>\n",
       "      <td>inside</td>\n",
       "    </tr>\n",
       "    <tr>\n",
       "      <td>368</td>\n",
       "      <td>11436.0</td>\n",
       "      <td>TAP</td>\n",
       "      <td>_Control 2</td>\n",
       "      <td>20191123</td>\n",
       "      <td>18.0</td>\n",
       "      <td>-13.422052</td>\n",
       "      <td>0.243767</td>\n",
       "      <td>3</td>\n",
       "      <td>-94.340887</td>\n",
       "      <td>1.392626</td>\n",
       "      <td>3</td>\n",
       "      <td>inside</td>\n",
       "    </tr>\n",
       "    <tr>\n",
       "      <td>369</td>\n",
       "      <td>11445.0</td>\n",
       "      <td>TAP</td>\n",
       "      <td>_Control 3</td>\n",
       "      <td>20191123</td>\n",
       "      <td>27.0</td>\n",
       "      <td>-13.283386</td>\n",
       "      <td>0.030740</td>\n",
       "      <td>3</td>\n",
       "      <td>-93.698473</td>\n",
       "      <td>0.228880</td>\n",
       "      <td>3</td>\n",
       "      <td>inside</td>\n",
       "    </tr>\n",
       "  </tbody>\n",
       "</table>\n",
       "<p>370 rows × 12 columns</p>\n",
       "</div>"
      ],
      "text/plain": [
       "         key Identifier 1   Identifier 2    RUN_ID  position  d18O vsmow  \\\n",
       "0     9095.0          TAP  _Conditioning  20190108       1.0  -13.561595   \n",
       "1     9098.0          TAP      _Standard  20190108       4.0  -13.086380   \n",
       "2     9103.0          TAP     _Control 1  20190108       9.0  -13.291948   \n",
       "3     9112.0          TAP     _Control 2  20190108      18.0  -13.306232   \n",
       "4     9121.0          TAP     _Control 3  20190108      27.0  -13.463029   \n",
       "..       ...          ...            ...       ...       ...         ...   \n",
       "365  11419.0          TAP  _Conditioning  20191123       1.0  -13.273059   \n",
       "366  11422.0          TAP      _Standard  20191123       4.0  -13.477003   \n",
       "367  11427.0          TAP     _Control 1  20191123       9.0  -13.338241   \n",
       "368  11436.0          TAP     _Control 2  20191123      18.0  -13.422052   \n",
       "369  11445.0          TAP     _Control 3  20191123      27.0  -13.283386   \n",
       "\n",
       "     d18O stdev. vsmow  d18O counts  d2H vsmow  d2H stdev. vsmow  d2H counts  \\\n",
       "0             0.071819            4 -94.428744          0.398818           4   \n",
       "1             0.194695           10 -94.245823          0.573695          10   \n",
       "2             0.290536            3 -94.287463          1.365812           3   \n",
       "3             0.037493            3 -94.056270          0.079869           3   \n",
       "4             0.184998            3 -94.590554          1.100233           3   \n",
       "..                 ...          ...        ...               ...         ...   \n",
       "365           0.064035            4 -93.786574          0.071990           4   \n",
       "366           0.099757           10 -94.857735          0.449674          10   \n",
       "367           0.031637            3 -93.627648          0.127276           3   \n",
       "368           0.243767            3 -94.340887          1.392626           3   \n",
       "369           0.030740            3 -93.698473          0.228880           3   \n",
       "\n",
       "    inside GMWL  \n",
       "0        inside  \n",
       "1        inside  \n",
       "2        inside  \n",
       "3        inside  \n",
       "4        inside  \n",
       "..          ...  \n",
       "365      inside  \n",
       "366      inside  \n",
       "367      inside  \n",
       "368      inside  \n",
       "369      inside  \n",
       "\n",
       "[370 rows x 12 columns]"
      ]
     },
     "execution_count": 6,
     "metadata": {},
     "output_type": "execute_result"
    }
   ],
   "source": [
    "df = pd.read_sql_query(\"select * from runs r where r.'Identifier 1'='TAP';\",conn)\n",
    "df"
   ]
  },
  {
   "cell_type": "markdown",
   "metadata": {},
   "source": [
    "we can also select the runs based on what the name is like, for example: guffert runs."
   ]
  },
  {
   "cell_type": "code",
   "execution_count": 35,
   "metadata": {},
   "outputs": [
    {
     "data": {
      "text/plain": [
       "86"
      ]
     },
     "execution_count": 35,
     "metadata": {},
     "output_type": "execute_result"
    }
   ],
   "source": [
    "### In case the database is rebuilt, and the run look up table needs to be done again, uncomment the next bit of code.\n",
    "\n",
    "\n",
    "#strips = [\"~$\",\"J:\\\\c715\\\\Picarro\\\\Results\\\\Results 2019\\\\Picarro-Results-\",\".xlsx\",\"-\",\"_\"]\n",
    "\n",
    "#nicknames = []\n",
    "\n",
    "#for i in glob.glob(r\"J:\\c715\\Picarro\\Results\\Results 2019\\*.xlsx\"):\n",
    "#    full = i\n",
    "#    for j in strips:\n",
    "\n",
    "#        full = full.replace(j,\" \")\n",
    "#    #print(full)\n",
    "#    if full.startswith(\" 2019\") == True:\n",
    "#        nicknames.append(full)\n",
    "    \n",
    "#RUN_IDS = glob.glob(r\"J:\\c715\\Picarro\\Results\\Results 2019\\Raw data\\*.csv\")\n",
    "\n",
    "#for i,j in zip(nicknames,RUN_IDS):\n",
    "#    pdb.AddRun(j,i,conn)"
   ]
  },
  {
   "cell_type": "code",
   "execution_count": 39,
   "metadata": {},
   "outputs": [
    {
     "name": "stdout",
     "output_type": "stream",
     "text": [
      "20190108.0\n",
      "table runlookup already exists\n",
      "20190109.0\n",
      "table runlookup already exists\n",
      "20190110.0\n",
      "table runlookup already exists\n",
      "20190111.0\n",
      "table runlookup already exists\n",
      "20190112.0\n",
      "table runlookup already exists\n",
      "20190113.0\n",
      "table runlookup already exists\n",
      "20190405.0\n",
      "table runlookup already exists\n",
      "20190406.0\n",
      "table runlookup already exists\n",
      "20190408.0\n",
      "table runlookup already exists\n",
      "20190409.0\n",
      "table runlookup already exists\n",
      "20190410.0\n",
      "table runlookup already exists\n",
      "20190411.0\n",
      "table runlookup already exists\n",
      "20190412.0\n",
      "table runlookup already exists\n",
      "20190413.0\n",
      "table runlookup already exists\n",
      "20190415.0\n",
      "table runlookup already exists\n",
      "20190416.0\n",
      "table runlookup already exists\n",
      "20190417.0\n",
      "table runlookup already exists\n",
      "20190418.0\n",
      "table runlookup already exists\n",
      "20190419.0\n",
      "table runlookup already exists\n",
      "20190513.0\n",
      "table runlookup already exists\n",
      "20190514.0\n",
      "table runlookup already exists\n",
      "20190515.0\n",
      "table runlookup already exists\n",
      "20190516.0\n",
      "table runlookup already exists\n",
      "20190701.0\n",
      "table runlookup already exists\n",
      "20190702.0\n",
      "table runlookup already exists\n",
      "20190703.0\n",
      "table runlookup already exists\n",
      "20190705.0\n",
      "table runlookup already exists\n",
      "20190706.0\n",
      "table runlookup already exists\n",
      "20190707.0\n",
      "table runlookup already exists\n",
      "20190708.0\n",
      "table runlookup already exists\n",
      "20190709.0\n",
      "table runlookup already exists\n",
      "20190710.0\n",
      "table runlookup already exists\n",
      "20190711.0\n",
      "table runlookup already exists\n",
      "20190712.0\n",
      "table runlookup already exists\n",
      "20190713.0\n",
      "table runlookup already exists\n",
      "20190715.0\n",
      "table runlookup already exists\n",
      "20190930.0\n",
      "table runlookup already exists\n",
      "20191001.0\n",
      "table runlookup already exists\n",
      "20191002.0\n",
      "table runlookup already exists\n",
      "20191003.0\n",
      "table runlookup already exists\n",
      "20191004.0\n",
      "table runlookup already exists\n",
      "20191005.0\n",
      "table runlookup already exists\n",
      "20191006.0\n",
      "table runlookup already exists\n",
      "20191007.0\n",
      "table runlookup already exists\n",
      "20191008.0\n",
      "table runlookup already exists\n",
      "20191009.0\n",
      "table runlookup already exists\n",
      "20191010.0\n",
      "table runlookup already exists\n",
      "20191011.0\n",
      "table runlookup already exists\n",
      "20191012.0\n",
      "table runlookup already exists\n",
      "20191014.0\n",
      "table runlookup already exists\n",
      "20191015.0\n",
      "table runlookup already exists\n",
      "20191016.0\n",
      "table runlookup already exists\n",
      "20191017.0\n",
      "table runlookup already exists\n",
      "20191018.0\n",
      "table runlookup already exists\n",
      "20191019.0\n",
      "table runlookup already exists\n",
      "20191021.0\n",
      "table runlookup already exists\n",
      "20191022.0\n",
      "table runlookup already exists\n",
      "20191023.0\n",
      "table runlookup already exists\n",
      "20191024.0\n",
      "table runlookup already exists\n",
      "20191025.0\n",
      "table runlookup already exists\n",
      "20191026.0\n",
      "table runlookup already exists\n",
      "20191028.0\n",
      "table runlookup already exists\n",
      "20191029.0\n",
      "table runlookup already exists\n",
      "20191030.0\n",
      "table runlookup already exists\n",
      "20191031.0\n",
      "table runlookup already exists\n",
      "20191101.0\n",
      "table runlookup already exists\n",
      "20191102.0\n",
      "table runlookup already exists\n",
      "20191103.0\n",
      "table runlookup already exists\n",
      "20191104.0\n",
      "table runlookup already exists\n",
      "20191105.0\n",
      "table runlookup already exists\n",
      "20191106.0\n",
      "table runlookup already exists\n",
      "20191107.0\n",
      "table runlookup already exists\n",
      "20191109.0\n",
      "table runlookup already exists\n",
      "20191111.0\n",
      "table runlookup already exists\n",
      "20191112.0\n",
      "table runlookup already exists\n",
      "20191113.0\n",
      "table runlookup already exists\n",
      "20191114.0\n",
      "table runlookup already exists\n",
      "20191115.0\n",
      "table runlookup already exists\n",
      "20191116.0\n",
      "table runlookup already exists\n",
      "20191117.0\n",
      "table runlookup already exists\n",
      "20191118.0\n",
      "table runlookup already exists\n",
      "20191119.0\n",
      "table runlookup already exists\n",
      "20191120.0\n",
      "table runlookup already exists\n",
      "20191121.0\n",
      "table runlookup already exists\n",
      "20191122.0\n",
      "table runlookup already exists\n",
      "20191123.0\n"
     ]
    }
   ],
   "source": []
  },
  {
   "cell_type": "code",
   "execution_count": null,
   "metadata": {},
   "outputs": [],
   "source": [
    "df = pd.read_sql_query(\"select * from runlookup rlk where rlk.NickName like '%Hundsalm%';\",conn)\n",
    "df"
   ]
  },
  {
   "cell_type": "markdown",
   "metadata": {},
   "source": [
    "Now let's execute a statement where the NickName is replaced."
   ]
  },
  {
   "cell_type": "code",
   "execution_count": null,
   "metadata": {},
   "outputs": [],
   "source": [
    "import sqlite3\n",
    "from sqlite3 import Error\n",
    "\n",
    "def ReplaceName(conn,RUN_ID,newname):\n",
    "    \"\"\" create a table from the create_table_sql statement\n",
    "    :param conn: Connection object\n",
    "    :param RUN_ID: the run id, an eight digit integer with format yyyymmdd\n",
    "    :return: updated table name in \n",
    "\n",
    "    https://www.sqlitetutorial.net/sqlite-python/create-tables/\n",
    "    \"\"\"\n",
    "    \n",
    "    statement= \"\"\"UPDATE runlookup\n",
    "    SET RUN_ID = {0}, NickName = '{1}'\n",
    "    WHERE RUN_ID = {0};\"\"\".format(RUN_ID,newname)\n",
    "    \n",
    "    try:\n",
    "        c = conn.cursor()\n",
    "\n",
    "        c.execute(statement)\n",
    "    except Error as e:\n",
    "            print(e)\n",
    "        conn.commit()"
   ]
  },
  {
   "cell_type": "code",
   "execution_count": null,
   "metadata": {},
   "outputs": [],
   "source": [
    "ids = [20190513,20190514,20190515,20190516,20190707]\n",
    "newnames=['2019 05 14 TR Hundsalm Run01',\n",
    "         '2019 05 15 TR Hundsalm Run02',\n",
    "         '2019 05 16 TR Hundsalm Run03',\n",
    "         '2019 05 17 TR Hundsalm Run04',\n",
    "         '2019 07 08 TR Hundsalm Run05']\n",
    "for i,j in zip(ids,newnames):\n",
    "    ReplaceName(conn,i,j)\n",
    "    \n",
    "\n"
   ]
  },
  {
   "cell_type": "code",
   "execution_count": null,
   "metadata": {
    "scrolled": false
   },
   "outputs": [],
   "source": [
    "df = pd.read_sql_query(\"select * from runlookup rlk where rlk.NickName like '%Hundsalm%';\",conn)\n",
    "df"
   ]
  },
  {
   "cell_type": "code",
   "execution_count": null,
   "metadata": {},
   "outputs": [],
   "source": [
    "pdb.AddSummaryRun(r\"J:\\c715\\Picarro\\Results\\Results 2019\\Raw data\\HKDS2009_IsoWater_20190516_142104.csv\",conn)"
   ]
  },
  {
   "cell_type": "code",
   "execution_count": null,
   "metadata": {},
   "outputs": [],
   "source": [
    "statement =\"\"\"SELECT * from runlookup rlk,runs r \n",
    "            WHERE (\n",
    "            rlk.NickName like '%Hundsalm%'\n",
    "            AND (r.'Identifier 2' = 'TR' \n",
    "            AND r.RUN_ID= rlk.RUN_ID\n",
    "            ));\"\"\"\n",
    "\n",
    "df = pd.read_sql_query(statement,conn)\n",
    "df"
   ]
  },
  {
   "cell_type": "code",
   "execution_count": null,
   "metadata": {},
   "outputs": [],
   "source": [
    "df = pd.read_sql_query(\"select r.'Identifier 1',r.'Identifier 2' from rawrun r where RUN_ID = 20190513\",conn)"
   ]
  },
  {
   "cell_type": "code",
   "execution_count": null,
   "metadata": {
    "scrolled": true
   },
   "outputs": [],
   "source": [
    "df1 = pd.read_csv(r\"J:\\c715\\Picarro\\Results\\Results 2019\\Raw data\\HKDS2009_IsoWater_20190513_142143.csv\")"
   ]
  },
  {
   "cell_type": "code",
   "execution_count": null,
   "metadata": {},
   "outputs": [],
   "source": [
    "df1.head(50)"
   ]
  },
  {
   "cell_type": "code",
   "execution_count": null,
   "metadata": {},
   "outputs": [],
   "source": [
    "pd.read_sql_query(\"select * from runlookup rlk,runs r where (rlk.NickName like '%Hundsalm%' and (r.RUN_ID = rlk.RUN_ID and r.'Identifier 2'  like '%Hundsalm%'));\",conn)"
   ]
  },
  {
   "cell_type": "code",
   "execution_count": null,
   "metadata": {},
   "outputs": [],
   "source": [
    "pd.read_sql_query(\"select * from runs where\")"
   ]
  },
  {
   "cell_type": "code",
   "execution_count": null,
   "metadata": {},
   "outputs": [],
   "source": [
    "pd.read_sql_query(\"select * from runs\",conn)"
   ]
  },
  {
   "cell_type": "code",
   "execution_count": null,
   "metadata": {},
   "outputs": [],
   "source": []
  }
 ],
 "metadata": {
  "kernelspec": {
   "display_name": "Python 3",
   "language": "python",
   "name": "python3"
  },
  "language_info": {
   "codemirror_mode": {
    "name": "ipython",
    "version": 3
   },
   "file_extension": ".py",
   "mimetype": "text/x-python",
   "name": "python",
   "nbconvert_exporter": "python",
   "pygments_lexer": "ipython3",
   "version": "3.7.4"
  }
 },
 "nbformat": 4,
 "nbformat_minor": 2
}

{
 "cells": [
  {
   "cell_type": "markdown",
   "metadata": {},
   "source": [
    "## Sample PICARRO run\n",
    "\n",
    "This notebook emulates the Excel workflow that was proposed by van Geldern (2012).\n",
    "\n",
    "### Reading the raw data and producing a run summary\n",
    "\n",
    "First of all, we've got to read the raw data from PICARRO after one analysis.\n",
    "We check first whether a run line is *empty*."
   ]
  },
  {
   "cell_type": "code",
   "execution_count": 1,
   "metadata": {},
   "outputs": [
    {
     "name": "stdout",
     "output_type": "stream",
     "text": [
      "/Users/AchilleTalon/Documents/GitHub/picarro_calculator/picarro-calculator\n"
     ]
    }
   ],
   "source": [
    "cd .."
   ]
  },
  {
   "cell_type": "code",
   "execution_count": 2,
   "metadata": {},
   "outputs": [],
   "source": [
    "import Picarro as pica"
   ]
  },
  {
   "cell_type": "code",
   "execution_count": 3,
   "metadata": {},
   "outputs": [
    {
     "name": "stdout",
     "output_type": "stream",
     "text": [
      "Reading the d18O data from file example_data/HKDS2009_IsoWater_20191010_094459.csv\n"
     ]
    },
    {
     "ename": "NameError",
     "evalue": "name 'readRaw' is not defined",
     "output_type": "error",
     "traceback": [
      "\u001b[0;31m---------------------------------------------------------------------------\u001b[0m",
      "\u001b[0;31mNameError\u001b[0m                                 Traceback (most recent call last)",
      "\u001b[0;32m<ipython-input-3-05fcb8fd33b3>\u001b[0m in \u001b[0;36m<module>\u001b[0;34m()\u001b[0m\n\u001b[0;32m----> 1\u001b[0;31m \u001b[0msummary\u001b[0m \u001b[0;34m=\u001b[0m \u001b[0mpica\u001b[0m\u001b[0;34m.\u001b[0m\u001b[0mTreat\u001b[0m\u001b[0;34m(\u001b[0m\u001b[0;34m\"example_data/HKDS2009_IsoWater_20191010_094459.csv\"\u001b[0m\u001b[0;34m)\u001b[0m\u001b[0;34m\u001b[0m\u001b[0;34m\u001b[0m\u001b[0m\n\u001b[0m",
      "\u001b[0;32m~/Documents/GitHub/picarro_calculator/picarro-calculator/Picarro.py\u001b[0m in \u001b[0;36mTreat\u001b[0;34m(filename)\u001b[0m\n\u001b[1;32m    771\u001b[0m \u001b[0;32mdef\u001b[0m \u001b[0mTreat\u001b[0m\u001b[0;34m(\u001b[0m\u001b[0mfilename\u001b[0m\u001b[0;34m)\u001b[0m\u001b[0;34m:\u001b[0m\u001b[0;34m\u001b[0m\u001b[0;34m\u001b[0m\u001b[0m\n\u001b[1;32m    772\u001b[0m         \u001b[0mprint\u001b[0m\u001b[0;34m(\u001b[0m\u001b[0;34m\"Reading the d18O data from file {}\"\u001b[0m\u001b[0;34m.\u001b[0m\u001b[0mformat\u001b[0m\u001b[0;34m(\u001b[0m\u001b[0mfilename\u001b[0m\u001b[0;34m)\u001b[0m\u001b[0;34m)\u001b[0m\u001b[0;34m\u001b[0m\u001b[0;34m\u001b[0m\u001b[0m\n\u001b[0;32m--> 773\u001b[0;31m         \u001b[0mrunO\u001b[0m\u001b[0;34m,\u001b[0m\u001b[0md18O\u001b[0m\u001b[0;34m,\u001b[0m\u001b[0mOCoeffs\u001b[0m \u001b[0;34m=\u001b[0m \u001b[0minitialTreatment\u001b[0m\u001b[0;34m(\u001b[0m\u001b[0mfilename\u001b[0m\u001b[0;34m,\u001b[0m\u001b[0miso\u001b[0m \u001b[0;34m=\u001b[0m \u001b[0;34m\"O\"\u001b[0m\u001b[0;34m)\u001b[0m\u001b[0;34m\u001b[0m\u001b[0;34m\u001b[0m\u001b[0m\n\u001b[0m\u001b[1;32m    774\u001b[0m         \u001b[0mprint\u001b[0m\u001b[0;34m(\u001b[0m\u001b[0;34m\"Reading the d2H data from file {}\"\u001b[0m\u001b[0;34m.\u001b[0m\u001b[0mformat\u001b[0m\u001b[0;34m(\u001b[0m\u001b[0mfilename\u001b[0m\u001b[0;34m)\u001b[0m\u001b[0;34m)\u001b[0m\u001b[0;34m\u001b[0m\u001b[0;34m\u001b[0m\u001b[0m\n\u001b[1;32m    775\u001b[0m         \u001b[0mrunH\u001b[0m\u001b[0;34m,\u001b[0m\u001b[0md2H\u001b[0m\u001b[0;34m,\u001b[0m\u001b[0mHCoeffs\u001b[0m \u001b[0;34m=\u001b[0m \u001b[0minitialTreatment\u001b[0m\u001b[0;34m(\u001b[0m\u001b[0mfilename\u001b[0m\u001b[0;34m,\u001b[0m\u001b[0miso\u001b[0m \u001b[0;34m=\u001b[0m \u001b[0;34m\"H\"\u001b[0m\u001b[0;34m)\u001b[0m\u001b[0;34m\u001b[0m\u001b[0;34m\u001b[0m\u001b[0m\n",
      "\u001b[0;32m~/Documents/GitHub/picarro_calculator/picarro-calculator/Picarro.py\u001b[0m in \u001b[0;36minitialTreatment\u001b[0;34m(filename, iso)\u001b[0m\n\u001b[1;32m    713\u001b[0m \u001b[0;32mdef\u001b[0m \u001b[0minitialTreatment\u001b[0m\u001b[0;34m(\u001b[0m\u001b[0mfilename\u001b[0m\u001b[0;34m,\u001b[0m\u001b[0miso\u001b[0m \u001b[0;34m=\u001b[0m \u001b[0;34m\"O\"\u001b[0m\u001b[0;34m)\u001b[0m\u001b[0;34m:\u001b[0m\u001b[0;34m\u001b[0m\u001b[0;34m\u001b[0m\u001b[0m\n\u001b[1;32m    714\u001b[0m \u001b[0;34m\u001b[0m\u001b[0m\n\u001b[0;32m--> 715\u001b[0;31m         \u001b[0mdat\u001b[0m \u001b[0;34m=\u001b[0m \u001b[0mreadRaw\u001b[0m\u001b[0;34m(\u001b[0m\u001b[0mfilename\u001b[0m\u001b[0;34m)\u001b[0m\u001b[0;34m\u001b[0m\u001b[0;34m\u001b[0m\u001b[0m\n\u001b[0m\u001b[1;32m    716\u001b[0m         \u001b[0mcheckEmpty\u001b[0m\u001b[0;34m(\u001b[0m\u001b[0mdat\u001b[0m\u001b[0;34m)\u001b[0m\u001b[0;34m\u001b[0m\u001b[0;34m\u001b[0m\u001b[0m\n\u001b[1;32m    717\u001b[0m         \u001b[0mcheckVolume\u001b[0m\u001b[0;34m(\u001b[0m\u001b[0mdat\u001b[0m\u001b[0;34m)\u001b[0m\u001b[0;34m\u001b[0m\u001b[0;34m\u001b[0m\u001b[0m\n",
      "\u001b[0;31mNameError\u001b[0m: name 'readRaw' is not defined"
     ]
    }
   ],
   "source": [
    "summary = pica.Treat(\"example_data/HKDS2009_IsoWater_20191010_094459.csv\")"
   ]
  },
  {
   "cell_type": "code",
   "execution_count": null,
   "metadata": {},
   "outputs": [],
   "source": [
    "summary.head(19)"
   ]
  },
  {
   "cell_type": "code",
   "execution_count": null,
   "metadata": {},
   "outputs": [],
   "source": [
    "import matplotlib.pyplot as plt\n",
    "import numpy as np\n",
    "\n",
    "fig,ax = plt.subplots()\n",
    "def func(x):\n",
    "    return 8*x+10\n",
    "\n",
    "xi = np.arange(-14,-7,0.5)\n",
    "yi = func(xi)\n",
    "\n",
    "counts = summary.iloc[0:19][\"d18O counts\"]\n",
    "ax.grid()\n",
    "ax.fill_between(xi,yi-8,yi+8,color = 'grey',alpha = 0.25)\n",
    "\n",
    "ax.plot(xi,yi,color = 'black')\n",
    "\n",
    "ax.tick_params(direction='in',top=True,right=True)\n",
    "\n",
    "ax.scatter(summary.iloc[0:19][\"d18O vsmow\"],summary.iloc[0:19][\"d2H vsmow\"],c=counts,cmap='YlOrRd')\n",
    "\n",
    "\n",
    "plt.show()\n",
    "    "
   ]
  }
 ],
 "metadata": {
  "kernelspec": {
   "display_name": "Python 3",
   "language": "python",
   "name": "python3"
  },
  "language_info": {
   "codemirror_mode": {
    "name": "ipython",
    "version": 3
   },
   "file_extension": ".py",
   "mimetype": "text/x-python",
   "name": "python",
   "nbconvert_exporter": "python",
   "pygments_lexer": "ipython3",
   "version": "3.6.7"
  }
 },
 "nbformat": 4,
 "nbformat_minor": 2
}
